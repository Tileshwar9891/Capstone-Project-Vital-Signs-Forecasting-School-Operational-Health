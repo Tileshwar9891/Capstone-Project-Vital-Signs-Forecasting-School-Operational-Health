{
 "cells": [
  {
   "cell_type": "code",
   "execution_count": null,
   "metadata": {},
   "outputs": [],
   "source": [
    "import pandas as pd\n",
    "import numpy as np"
   ]
  },
  {
   "cell_type": "code",
   "execution_count": null,
   "metadata": {},
   "outputs": [],
   "source": [
    "# Read in data\n",
    "housing_raw = pd.read_csv('Public Data/combined_housing_2018_2023.csv')\n",
    "\n",
    "parish_zip = pd.read_excel('parish_tracts_zips.xlsx')\n",
    "parish_zip = parish_zip[['school_id', 'zip_codes']]"
   ]
  },
  {
   "cell_type": "code",
   "execution_count": null,
   "metadata": {},
   "outputs": [],
   "source": [
    "# Number of unique parishes \n",
    "num_unique_parishes = parish_zip['school_id'].nunique()\n",
    "print(f\"Number of unique parishes: {num_unique_parishes}\")"
   ]
  },
  {
   "cell_type": "code",
   "execution_count": null,
   "metadata": {},
   "outputs": [],
   "source": [
    "# Get parish names to create dummy variable \n",
    "parish_columns = parish_zip['school_id'].unique()\n"
   ]
  },
  {
   "cell_type": "code",
   "execution_count": null,
   "metadata": {},
   "outputs": [],
   "source": [
    "housing_year = housing_raw.copy()\n",
    "\n",
    "# Change year \n",
    "housing_year['Year'] = housing_year['Year'].astype(str).replace({\n",
    "    '2018': '2018_19',\n",
    "    '2019': '2019_20',\n",
    "    '2020': '2020_21',\n",
    "    '2021': '2021_22',\n",
    "    '2022': '2022_23'\n",
    "})\n",
    "\n",
    "housing_year = housing_year[housing_year['Year'] != '2023']\n",
    "\n",
    "# Drop duplicates if there are any \n",
    "duplicates = housing_year[housing_year.duplicated(subset=['Zip Code', 'Year'], keep=False)]\n",
    "\n",
    "# Check year\n",
    "housing_year['Year'].unique()"
   ]
  },
  {
   "cell_type": "code",
   "execution_count": null,
   "metadata": {},
   "outputs": [],
   "source": [
    "parish_zip['zip_codes'] = parish_zip['zip_codes'].astype(str)\n",
    "\n",
    "parish_zip['zip_codes_split'] = parish_zip['zip_codes'].apply(\n",
    "    lambda x: [z.strip() for z in x.split(',') if z.strip()]\n",
    ")\n",
    "\n",
    "zips_exploded = parish_zip.explode('zip_codes_split')\n",
    "\n",
    "zips_exploded = zips_exploded.rename(columns={'zip_codes_split': 'zip_code'})\n",
    "\n",
    "housing_year['Zip Code'] = housing_year['Zip Code'].astype(int)\n",
    "zips_exploded['zip_code'] = zips_exploded['zip_code'].astype(int)"
   ]
  },
  {
   "cell_type": "code",
   "execution_count": null,
   "metadata": {},
   "outputs": [],
   "source": [
    "merge = zips_exploded.merge(housing_year, left_on='zip_code', right_on='Zip Code', how='left')"
   ]
  },
  {
   "cell_type": "markdown",
   "metadata": {},
   "source": []
  },
  {
   "cell_type": "code",
   "execution_count": null,
   "metadata": {},
   "outputs": [],
   "source": [
    "housing_parish = housing_year.copy()\n",
    "\n",
    "# Change zipcodes into string and remove whitespace\n",
    "housing_parish['Zip Code'] = housing_parish['Zip Code'].astype(str).str.strip() \n",
    "parish_zip['zip_codes'] = parish_zip['zip_codes'].astype(str).str.strip() "
   ]
  },
  {
   "cell_type": "code",
   "execution_count": null,
   "metadata": {},
   "outputs": [],
   "source": [
    "# Convert the comma-separated string to a list of ZIPs\n",
    "parish_zip['zip_codes_clean'] = parish_zip['zip_codes'].astype(str).apply(\n",
    "    lambda x: [z.strip() for z in x.split(',') if z.strip()]\n",
    ")\n",
    "\n",
    "\n",
    "# Flatten the list into a set of unique ZIP codes\n",
    "all_unique_zips = set(\n",
    "    zip_code for zip_list in parish_zip['zip_codes_clean']\n",
    "    for zip_code in zip_list\n",
    ")"
   ]
  },
  {
   "cell_type": "code",
   "execution_count": null,
   "metadata": {},
   "outputs": [],
   "source": [
    "present_zips = set(housing_parish[housing_parish['Year']== '2018-19']['Zip Code'].unique())\n",
    "missing_zips_2018 = all_unique_zips - present_zips\n",
    "print(len(missing_zips_2018))\n",
    "\n",
    "present_zips = set(housing_parish[housing_parish['Year']== '2019-20']['Zip Code'].unique())\n",
    "missing_zips_2019 = all_unique_zips - present_zips\n",
    "print(len(missing_zips_2019))\n",
    "\n",
    "present_zips = set(housing_parish[housing_parish['Year']== '2020-21']['Zip Code'].unique())\n",
    "missing_zips_2020 = all_unique_zips - present_zips\n",
    "print(len(missing_zips_2020))\n",
    "\n",
    "present_zips = set(housing_parish[housing_parish['Year']== '2021-22']['Zip Code'].unique())\n",
    "missing_zips_2021 = all_unique_zips - present_zips\n",
    "print(len(missing_zips_2021))\n",
    "\n",
    "present_zips = set(housing_parish[housing_parish['Year']== '2022-23']['Zip Code'].unique())\n",
    "missing_zips_2022 = all_unique_zips - present_zips\n",
    "print(len(missing_zips_2022))"
   ]
  },
  {
   "cell_type": "code",
   "execution_count": null,
   "metadata": {},
   "outputs": [],
   "source": [
    "all_missing_zips = (\n",
    "    missing_zips_2018\n",
    "    | missing_zips_2019\n",
    "    | missing_zips_2020\n",
    "    | missing_zips_2021\n",
    "    | missing_zips_2022\n",
    ")\n",
    "\n",
    "housing_parish = housing_parish[~housing_parish['Zip Code'].isin(all_missing_zips)]"
   ]
  },
  {
   "cell_type": "markdown",
   "metadata": {},
   "source": [
    "### Aggregation"
   ]
  },
  {
   "cell_type": "code",
   "execution_count": null,
   "metadata": {},
   "outputs": [],
   "source": [
    "merge"
   ]
  },
  {
   "cell_type": "code",
   "execution_count": null,
   "metadata": {},
   "outputs": [],
   "source": []
  },
  {
   "cell_type": "code",
   "execution_count": null,
   "metadata": {},
   "outputs": [],
   "source": [
    "# Columns to sum \n",
    "cols_to_sum = ['Total Households', 'Total Families', 'Households with Children Under 18', 'Owner-Occupied Units', 'Renter-Occupied Units', 'Nonfamily Total Households']\n",
    "\n",
    "cols_to_mean = ['Avg Household Size', 'Avg Family Size', 'Married Avg Household Size', 'Nonfamily Avg Household Size', 'Married Avg Family Size']\n",
    "\n",
    "cols_to_fix = cols_to_sum + cols_to_mean\n",
    "merge[cols_to_fix] = merge[cols_to_fix].replace('-', np.nan)\n",
    "\n"
   ]
  },
  {
   "cell_type": "code",
   "execution_count": null,
   "metadata": {},
   "outputs": [],
   "source": [
    "merge[cols_to_fix] = merge[cols_to_fix].astype(float)"
   ]
  },
  {
   "cell_type": "code",
   "execution_count": null,
   "metadata": {},
   "outputs": [],
   "source": [
    "\n",
    "for col in cols_to_fix:\n",
    "    bad_vals = merge[~merge[col].apply(lambda x: pd.api.types.is_number(x) or pd.isna(x))]\n",
    "    if not bad_vals.empty:\n",
    "        print(f\"\\nNon-numeric values found in '{col}':\")\n",
    "        print(bad_vals[col].unique())\n"
   ]
  },
  {
   "cell_type": "code",
   "execution_count": null,
   "metadata": {},
   "outputs": [],
   "source": [
    "# Columns to sum \n",
    "cols_to_sum = ['Total Households', 'Total Families', 'Households with Children Under 18', 'Owner-Occupied Units', 'Renter-Occupied Units', 'Nonfamily Total Households']\n",
    "\n",
    "cols_to_mean = ['Avg Household Size', 'Avg Family Size', 'Married Avg Household Size', 'Nonfamily Avg Household Size', 'Married Avg Family Size']\n",
    "\n",
    "agg_dict = {col: 'sum' for col in cols_to_sum}\n",
    "agg_dict.update({col: 'mean' for col in cols_to_mean})\n",
    "\n",
    "# Group and aggregate\n",
    "grouped_df = merge.groupby(['school_id', 'Year'], as_index=False).agg(agg_dict)"
   ]
  },
  {
   "cell_type": "code",
   "execution_count": null,
   "metadata": {},
   "outputs": [],
   "source": [
    "grouped_df['school_id'].unique()"
   ]
  },
  {
   "cell_type": "code",
   "execution_count": null,
   "metadata": {},
   "outputs": [],
   "source": [
    "grouped_df.to_csv('census_housing_by_parish.csv')"
   ]
  }
 ],
 "metadata": {
  "kernelspec": {
   "display_name": "Python 3 (ipykernel)",
   "language": "python",
   "name": "python3"
  },
  "language_info": {
   "codemirror_mode": {
    "name": "ipython",
    "version": 3
   },
   "file_extension": ".py",
   "mimetype": "text/x-python",
   "name": "python",
   "nbconvert_exporter": "python",
   "pygments_lexer": "ipython3",
   "version": "3.12.4"
  }
 },
 "nbformat": 4,
 "nbformat_minor": 4
}
