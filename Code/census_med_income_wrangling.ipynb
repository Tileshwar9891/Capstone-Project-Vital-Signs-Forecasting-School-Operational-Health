{
 "cells": [
  {
   "cell_type": "code",
   "execution_count": null,
   "metadata": {},
   "outputs": [],
   "source": [
    "import pandas as pd\n",
    "import numpy as np\n",
    "import re"
   ]
  },
  {
   "cell_type": "code",
   "execution_count": null,
   "metadata": {},
   "outputs": [],
   "source": [
    "income_raw = pd.read_csv('Public Data/census_med_income.csv', index_col=0)\n",
    "\n",
    "parish_zip = pd.read_excel('parish_tracts_zips.xlsx')"
   ]
  },
  {
   "cell_type": "code",
   "execution_count": null,
   "metadata": {},
   "outputs": [],
   "source": [
    "income_clean = income_raw.copy()\n",
    "\n",
    "income_clean = income_clean[['Geographic Area Name', 'Estimate!!Median income (dollars)!!HOUSEHOLD INCOME BY RACE AND HISPANIC OR LATINO ORIGIN OF HOUSEHOLDER!!Households',\n",
    "                             'Estimate!!Median income (dollars)!!FAMILIES!!Families', 'year']]\n",
    "income_clean.rename(columns={'Geographic Area Name':'zip_code',\n",
    "                           'Estimate!!Median income (dollars)!!HOUSEHOLD INCOME BY RACE AND HISPANIC OR LATINO ORIGIN OF HOUSEHOLDER!!Households':'all households',\n",
    "                           'Estimate!!Median income (dollars)!!FAMILIES!!Families':'Med income families'}, inplace=True)\n",
    "\n",
    "income_clean['zip_code'] = income_clean['zip_code'].astype(str).str.extract(r'(\\b\\d{5}\\b)')\n",
    "\n",
    "income_clean['zip_code'] = income_clean['zip_code'].astype(str)"
   ]
  },
  {
   "cell_type": "code",
   "execution_count": null,
   "metadata": {},
   "outputs": [],
   "source": [
    "income_clean.columns = [income_clean.columns[0]] + \\\n",
    "                       ['Med inc_' + col for col in income_clean.columns[1:42]]\n",
    "\n",
    "income_clean.rename(columns={'Med inc_year':'year'},inplace=True)\n",
    "\n",
    "income_parish = income_clean"
   ]
  },
  {
   "cell_type": "code",
   "execution_count": null,
   "metadata": {},
   "outputs": [],
   "source": [
    "# Convert the comma-separated string to a list of ZIPs\n",
    "parish_zip['zip_codes_clean'] = parish_zip['zip_codes'].astype(str).apply(\n",
    "    lambda x: [z.strip() for z in x.split(',') if z.strip()]\n",
    ")\n",
    "\n",
    "\n",
    "# Flatten the list into a set of unique ZIP codes\n",
    "all_unique_zips = set(\n",
    "    zip_code for zip_list in parish_zip['zip_codes_clean']\n",
    "    for zip_code in zip_list\n",
    ")"
   ]
  },
  {
   "cell_type": "code",
   "execution_count": null,
   "metadata": {},
   "outputs": [],
   "source": [
    "present_zips = set(income_parish[income_parish['year']== '2018_19']['zip_code'].unique())\n",
    "missing_zips_2018 = all_unique_zips - present_zips\n",
    "print(len(missing_zips_2018))\n",
    "\n",
    "present_zips = set(income_parish[income_parish['year']== '2019_20']['zip_code'].unique())\n",
    "missing_zips_2019 = all_unique_zips - present_zips\n",
    "print(len(missing_zips_2019))\n",
    "\n",
    "present_zips = set(income_parish[income_parish['year']== '2020_21']['zip_code'].unique())\n",
    "missing_zips_2020 = all_unique_zips - present_zips\n",
    "print(len(missing_zips_2020))\n",
    "\n",
    "present_zips = set(income_parish[income_parish['year']== '2021_22']['zip_code'].unique())\n",
    "missing_zips_2021 = all_unique_zips - present_zips\n",
    "print(len(missing_zips_2021))\n",
    "\n",
    "present_zips = set(income_parish[income_parish['year']== '2022_23']['zip_code'].unique())\n",
    "missing_zips_2022 = all_unique_zips - present_zips\n",
    "print(len(missing_zips_2022))"
   ]
  },
  {
   "cell_type": "code",
   "execution_count": null,
   "metadata": {},
   "outputs": [],
   "source": [
    "all_missing_zips = (\n",
    "    missing_zips_2018\n",
    "    | missing_zips_2019\n",
    "    | missing_zips_2020\n",
    "    | missing_zips_2021\n",
    "    | missing_zips_2022\n",
    ")\n",
    "\n",
    "income_parish = income_parish[~income_parish['zip_code'].isin(all_missing_zips)]"
   ]
  },
  {
   "cell_type": "code",
   "execution_count": null,
   "metadata": {},
   "outputs": [],
   "source": [
    "parish_zip['zip_codes'] = parish_zip['zip_codes'].astype(str)\n",
    "\n",
    "parish_zip['zip_codes_split'] = parish_zip['zip_codes'].apply(\n",
    "    lambda x: [z.strip() for z in x.split(',') if z.strip()]\n",
    ")\n",
    "\n",
    "zips_exploded = parish_zip.explode('zip_codes_split')\n",
    "\n",
    "zips_exploded = zips_exploded.rename(columns={'zip_codes_split': 'zip_code'})\n"
   ]
  },
  {
   "cell_type": "code",
   "execution_count": null,
   "metadata": {},
   "outputs": [],
   "source": [
    "merge = zips_exploded.merge(income_parish, on='zip_code', how='left')\n",
    "\n",
    "merge = merge.dropna()"
   ]
  },
  {
   "cell_type": "markdown",
   "metadata": {},
   "source": [
    "#### Aggregation"
   ]
  },
  {
   "cell_type": "code",
   "execution_count": null,
   "metadata": {},
   "outputs": [],
   "source": [
    "change_cols = ['Med inc_all households', 'Med inc_Med income families']\n",
    "\n",
    "for col in change_cols:\n",
    "    merge[col] = (\n",
    "        merge[col]\n",
    "        .astype(str)\n",
    "        .str.replace(',', '', regex=False)\n",
    "        .str.replace('+', '', regex=False)\n",
    "        .replace('nan', np.nan)\n",
    "        .astype(float)\n",
    "    )"
   ]
  },
  {
   "cell_type": "code",
   "execution_count": null,
   "metadata": {},
   "outputs": [],
   "source": [
    "group_cols = ['school_id', 'year'] \n",
    "\n",
    "cols_to_mean = ['Med inc_all households', 'Med inc_Med income families']\n",
    "merge[cols_to_mean] = merge[cols_to_mean].astype(int)\n",
    "\n",
    "grouped_df = merge.groupby(group_cols, as_index=False)[cols_to_mean].mean()\n"
   ]
  },
  {
   "cell_type": "code",
   "execution_count": null,
   "metadata": {},
   "outputs": [],
   "source": [
    "grouped_df.to_csv('census_med_income_by_parish.csv')"
   ]
  }
 ],
 "metadata": {
  "kernelspec": {
   "display_name": "Python 3 (ipykernel)",
   "language": "python",
   "name": "python3"
  },
  "language_info": {
   "codemirror_mode": {
    "name": "ipython",
    "version": 3
   },
   "file_extension": ".py",
   "mimetype": "text/x-python",
   "name": "python",
   "nbconvert_exporter": "python",
   "pygments_lexer": "ipython3",
   "version": "3.12.4"
  }
 },
 "nbformat": 4,
 "nbformat_minor": 4
}
