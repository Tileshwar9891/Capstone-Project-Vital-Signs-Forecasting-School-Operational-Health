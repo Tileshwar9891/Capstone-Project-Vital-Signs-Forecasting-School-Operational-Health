{
 "cells": [
  {
   "cell_type": "code",
   "execution_count": null,
   "metadata": {
    "id": "sxauLBLivZ6d"
   },
   "outputs": [],
   "source": [
    "import pandas as pd\n",
    "import matplotlib.pyplot as plt\n",
    "import seaborn as sns\n",
    "import numpy as np\n",
    "import io"
   ]
  },
  {
   "cell_type": "code",
   "execution_count": null,
   "metadata": {
    "id": "pIspPR3fxwP_"
   },
   "outputs": [],
   "source": [
    "df = pd.read_csv('final_dataset.csv')"
   ]
  },
  {
   "cell_type": "code",
   "execution_count": null,
   "metadata": {
    "colab": {
     "base_uri": "https://localhost:8080/"
    },
    "id": "M9o1x-jtwHcB",
    "outputId": "704f722a-610a-4c77-d34a-611d6bc87e1d"
   },
   "outputs": [],
   "source": [
    "print(\"Basic Info:\")\n",
    "print(df.info())"
   ]
  },
  {
   "cell_type": "code",
   "execution_count": null,
   "metadata": {
    "colab": {
     "base_uri": "https://localhost:8080/",
     "height": 335
    },
    "id": "hc1oxbbSwUVS",
    "outputId": "25c717cb-9f62-4651-bfaf-25006a8801e3"
   },
   "outputs": [],
   "source": [
    "missing = df.isnull().sum().sort_values(ascending=False)\n",
    "missing[missing > 0]"
   ]
  },
  {
   "cell_type": "code",
   "execution_count": null,
   "metadata": {},
   "outputs": [],
   "source": [
    "# List of columns with missing values\n",
    "columns_to_fill = [\n",
    "    'fulcrum_grant_mean',\n",
    "    'fulcrum_total_app',\n",
    "    'fulcrum_grant_count',\n",
    "    'Nonfamily Avg Household Size',\n",
    "    'Married Avg Family Size',\n",
    "    'Married Avg Household Size',\n",
    "    'Avg Family Size',\n",
    "    'Avg Household Size'\n",
    "]\n",
    "\n",
    "# Filling NaN with 0 only in these columns\n",
    "df[columns_to_fill] = df[columns_to_fill].fillna(0)\n",
    "\n",
    "# Verifying the changes\n",
    "print(\"Missing Values After Filling with 0:\")\n",
    "print(df[columns_to_fill].isnull().sum())"
   ]
  },
  {
   "cell_type": "code",
   "execution_count": null,
   "metadata": {
    "colab": {
     "base_uri": "https://localhost:8080/",
     "height": 423
    },
    "id": "eHdX4lNUwgt9",
    "outputId": "c24e1e0e-3cf4-4884-936a-04f7cf65dc6a"
   },
   "outputs": [],
   "source": [
    "# Summary statistics for numerical columns\n",
    "df.describe(include='number').T"
   ]
  },
  {
   "cell_type": "code",
   "execution_count": null,
   "metadata": {
    "colab": {
     "base_uri": "https://localhost:8080/",
     "height": 363
    },
    "id": "-_hr0P8fwo8w",
    "outputId": "09bde61f-bc23-4bbd-8b12-192147b063d4"
   },
   "outputs": [],
   "source": [
    "# Group by 'Year' and count the number of unique schools\n",
    "schools_per_year = df.groupby('Year')['school_id'].nunique().reset_index()\n",
    "\n",
    "# Rename columns for clarity\n",
    "schools_per_year.columns = ['Year', 'Total Schools']\n",
    "\n",
    "# Display the result\n",
    "print(schools_per_year)"
   ]
  },
  {
   "cell_type": "code",
   "execution_count": null,
   "metadata": {
    "colab": {
     "base_uri": "https://localhost:8080/",
     "height": 458
    },
    "id": "-RAvMpqQwrtU",
    "outputId": "8997d8a9-42fd-40b2-e82f-1a113ed7d586"
   },
   "outputs": [],
   "source": [
    "unique_vals = df.nunique().sort_values(ascending=True)\n",
    "unique_vals"
   ]
  },
  {
   "cell_type": "code",
   "execution_count": null,
   "metadata": {},
   "outputs": [],
   "source": [
    "# Group by 'Region' and count the number of unique schools\n",
    "schools_per_region = df.groupby('Region')['school_id'].nunique().reset_index()\n",
    "\n",
    "# Rename columns for clarity\n",
    "schools_per_region.columns = ['Region', 'Total Schools']\n",
    "\n",
    "# Display the result\n",
    "print(schools_per_region)"
   ]
  },
  {
   "cell_type": "code",
   "execution_count": null,
   "metadata": {
    "id": "Sc0GvabIxDnw"
   },
   "outputs": [],
   "source": [
    "numerical_cols = df.select_dtypes(include='number').columns.tolist()\n",
    "categorical_cols = df.select_dtypes(include='object').columns.tolist()\n",
    "print(\"Numerical Columns:\")\n",
    "print(numerical_cols)\n",
    "print(\"\\nCategorical Columns:\")\n",
    "print(categorical_cols)"
   ]
  },
  {
   "cell_type": "markdown",
   "metadata": {
    "id": "tLMJG-etzQA2"
   },
   "source": [
    "# Total Enrollment Over Time (for all schools)"
   ]
  },
  {
   "cell_type": "code",
   "execution_count": null,
   "metadata": {
    "id": "2NdvAUBZzUez"
   },
   "outputs": [],
   "source": [
    "# Group by 'Year' and sum the total enrollment for all schools\n",
    "total_enrollment_by_year = df.groupby('Year')['TS-Enrollment'].sum()\n",
    "\n",
    "# Plotting the total enrollment over the years\n",
    "plt.figure(figsize=(10, 6))\n",
    "total_enrollment_by_year.plot(kind='line', marker='o', color='purple', linewidth=2)\n",
    "plt.title('Total Enrollment Trends for All Schools Over Time')\n",
    "plt.xlabel('Academic Year')\n",
    "plt.ylabel('Total Enrollment')\n",
    "plt.xticks(rotation=45)\n",
    "plt.grid(True)\n",
    "plt.show()"
   ]
  },
  {
   "cell_type": "code",
   "execution_count": null,
   "metadata": {
    "id": "i5_b-OTW0MSX"
   },
   "outputs": [],
   "source": [
    "enrollment_by_year = df.groupby('Year')['fulcrum_total_app'].sum().reset_index()\n",
    "plt.figure(figsize=(10, 6))\n",
    "plt.plot(enrollment_by_year['Year'], enrollment_by_year['fulcrum_total_app'], marker='o', color='skyblue')\n",
    "for i, value in enumerate(enrollment_by_year['fulcrum_total_app']):\n",
    "    plt.text(i, value, f'{value:.0f}', ha='center', va='bottom')\n",
    "plt.xlabel('Year')\n",
    "plt.ylabel('Total Fulcrum Applications')\n",
    "plt.title('Total Fulcrum Applications Across Years')\n",
    "plt.xticks(rotation=45)\n",
    "plt.tight_layout()\n",
    "plt.show()"
   ]
  },
  {
   "cell_type": "code",
   "execution_count": null,
   "metadata": {
    "id": "-HF8cX7P0Qyi"
   },
   "outputs": [],
   "source": [
    "# Group by 'Year' and sum both columns\n",
    "data_by_year = df.groupby('Year')[['TS-Enrollment', 'fulcrum_total_app']].sum()\n",
    "\n",
    "# Calculate percentage\n",
    "data_by_year['Percentage'] = (data_by_year['fulcrum_total_app'] / data_by_year['TS-Enrollment']) * 100\n",
    "\n",
    "# Plot\n",
    "plt.figure(figsize=(10, 6))\n",
    "plt.plot(data_by_year.index, data_by_year['Percentage'], marker='o', color='green', linewidth=2)\n",
    "for i, value in enumerate(data_by_year['Percentage']):\n",
    "    plt.text(i, value, f'{value:.1f}%', ha='center', va='bottom')\n",
    "plt.title('Percentage of Fulcrum Applications Out of Total Enrollment Over Time')\n",
    "plt.xlabel('Academic Year')\n",
    "plt.ylabel('Percentage (%)')\n",
    "plt.xticks(rotation=45)\n",
    "plt.grid(True)\n",
    "plt.tight_layout()\n",
    "plt.show()"
   ]
  },
  {
   "cell_type": "code",
   "execution_count": null,
   "metadata": {
    "colab": {
     "base_uri": "https://localhost:8080/",
     "height": 255
    },
    "id": "uE1srXvZ00EE",
    "outputId": "9e74aa8f-7a70-4a05-cc73-33a860a088ad"
   },
   "outputs": [],
   "source": [
    "# Group by 'Year' and sum both columns\n",
    "data_by_year = df.groupby('Year')[['TS-Enrollment', 'fulcrum_total_app']].sum()\n",
    "\n",
    "# Add percentage column\n",
    "data_by_year['Percentage'] = (data_by_year['fulcrum_total_app'] / data_by_year['TS-Enrollment']) * 100\n",
    "\n",
    "# Display the table\n",
    "print(\"Total Enrollment and Fulcrum Applications by Year:\")\n",
    "print(data_by_year)"
   ]
  },
  {
   "cell_type": "code",
   "execution_count": null,
   "metadata": {
    "colab": {
     "base_uri": "https://localhost:8080/",
     "height": 241
    },
    "id": "47u0qxup01LN",
    "outputId": "9a3c26fa-c6c4-4e89-f0c1-12d7cc96a465"
   },
   "outputs": [],
   "source": [
    "# Select numerical columns, excluding 'school_id' and 'zip_code'\n",
    "numerical_cols = [col for col in df.select_dtypes(include='number').columns if col not in ['school_id', 'zip_code']]\n",
    "corr_matrix = df[numerical_cols].corr()\n",
    "\n",
    "# Filter columns with correlations > 0.4, then pick top 10 by max correlation\n",
    "filtered_cols = corr_matrix.columns[(corr_matrix.abs() > 0.4).any()]\n",
    "filtered_corr = corr_matrix.loc[filtered_cols, filtered_cols]\n",
    "top_cols = filtered_corr.abs().max().sort_values(ascending=False).head(10).index\n",
    "top_corr = filtered_corr.loc[top_cols, top_cols]\n",
    "\n",
    "# Create heatmap\n",
    "plt.figure(figsize=(12, 10))\n",
    "sns.heatmap(top_corr, cmap='coolwarm', center=0, annot=True, fmt='.2f', square=True)\n",
    "plt.xticks(rotation=45, ha='right')\n",
    "plt.yticks(rotation=0)\n",
    "plt.title('Top 10 Numerical Columns (Excluding school_id & zip_code) with |Correlation| > 0.4')\n",
    "plt.tight_layout()\n",
    "plt.show()"
   ]
  },
  {
   "cell_type": "code",
   "execution_count": null,
   "metadata": {
    "colab": {
     "base_uri": "https://localhost:8080/",
     "height": 1000
    },
    "id": "jPa_xFuh04FV",
    "outputId": "134f8dae-252e-41d2-8bfb-9938dd506dfb"
   },
   "outputs": [],
   "source": [
    "# Key variables to explore\n",
    "key_vars = ['TS-Enrollment', 'fulcrum_total_app', 'tuition_fees_finaid_scholarships', 'Total Population']\n",
    "\n",
    "# Plot distributions\n",
    "plt.figure(figsize=(12, 8))\n",
    "for i, var in enumerate(key_vars, 1):\n",
    "    plt.subplot(2, 2, i)\n",
    "    sns.histplot(df[var], bins=20, kde=True, color='skyblue')\n",
    "    plt.title(f'Distribution of {var}')\n",
    "    plt.xlabel(var)\n",
    "    plt.ylabel('Count')\n",
    "plt.tight_layout()\n",
    "plt.show()"
   ]
  },
  {
   "cell_type": "code",
   "execution_count": null,
   "metadata": {},
   "outputs": [],
   "source": [
    "# Box plots for TS-Enrollment vs. categorical variables\n",
    "cat_vars = ['Region']\n",
    "num_var = 'TS-Enrollment'\n",
    "\n",
    "plt.figure(figsize=(16, 6))\n",
    "\n",
    "for i, cat in enumerate(cat_vars, 1):\n",
    "    plt.subplot(1, 2, i)\n",
    "    # Sort categories by median TS-Enrollment\n",
    "    order = df.groupby(cat)[num_var].median().sort_values().index\n",
    "    sns.boxplot(\n",
    "        x=cat,\n",
    "        y=num_var,\n",
    "        data=df,\n",
    "        hue=cat,\n",
    "        palette='Set2',\n",
    "        order=order,\n",
    "        showfliers=False,\n",
    "        legend=False  # Avoid duplicate legends\n",
    "    )\n",
    "    plt.title(f'{num_var} by {cat}', fontsize=12)\n",
    "    plt.xticks(rotation=30, ha='right')\n",
    "    plt.xlabel(cat, fontsize=10)\n",
    "    plt.ylabel(num_var, fontsize=10)\n",
    "\n",
    "plt.tight_layout()\n",
    "plt.show()\n"
   ]
  },
  {
   "cell_type": "code",
   "execution_count": null,
   "metadata": {},
   "outputs": [],
   "source": [
    "df.groupby('Region')['TS-Enrollment'].sum().plot(kind='bar', color='skyblue')\n",
    "plt.title('Total Enrollment by Region')\n",
    "plt.ylabel('Enrollment')\n",
    "plt.tight_layout()\n",
    "plt.show()\n"
   ]
  },
  {
   "cell_type": "code",
   "execution_count": null,
   "metadata": {},
   "outputs": [],
   "source": [
    "plt.figure(figsize=(10, 6))\n",
    "sns.lineplot(data=df, x='Year', y='TS-Enrollment', hue='Region', marker='o')\n",
    "plt.title('Enrollment Trend by Region')\n",
    "plt.tight_layout()\n",
    "plt.show()\n"
   ]
  },
  {
   "cell_type": "code",
   "execution_count": null,
   "metadata": {},
   "outputs": [],
   "source": [
    "df_grouped = df.groupby('Year')[['TS-Catholic', 'TS-Non-Catholic']].sum().reset_index()\n",
    "\n",
    "plt.figure(figsize=(10, 6))\n",
    "sns.lineplot(data=df_grouped, x='Year', y='TS-Catholic', label='Catholic Enrollment', marker='o')\n",
    "sns.lineplot(data=df_grouped, x='Year', y='TS-Non-Catholic', label='Non-Catholic Enrollment', marker='o')\n",
    "plt.title('Catholic vs Non-Catholic Enrollment Over Years')\n",
    "plt.tight_layout()\n",
    "plt.show()\n"
   ]
  },
  {
   "cell_type": "code",
   "execution_count": null,
   "metadata": {},
   "outputs": [],
   "source": [
    "# Combine under-15 child population\n",
    "df['child_under_15'] = (\n",
    "    df['child_under_5'] +\n",
    "    df['child_5_9'] +\n",
    "    df['child_10_14']\n",
    ")\n",
    "\n",
    "# Group by Year to get trends\n",
    "child_enroll_trend = df.groupby('Year')[['child_under_15', 'TS-Enrollment']].sum().reset_index()\n",
    "\n",
    "# Normalize both variables to percentage of max for visual comparison\n",
    "child_enroll_trend['child_under_15_pct'] = (child_enroll_trend['child_under_15'] / child_enroll_trend['child_under_15'].max()) * 100\n",
    "child_enroll_trend['TS-Enrollment_pct'] = (child_enroll_trend['TS-Enrollment'] / child_enroll_trend['TS-Enrollment'].max()) * 100\n",
    "\n",
    "# Plotting the percentage line chart\n",
    "plt.figure(figsize=(10, 6))\n",
    "sns.lineplot(data=child_enroll_trend, x='Year', y='child_under_15_pct', label='Children Under 15 (%)', marker='o')\n",
    "sns.lineplot(data=child_enroll_trend, x='Year', y='TS-Enrollment_pct', label='Total Enrollment (%)', linestyle='--', color='black', marker='o')\n",
    "plt.title('Children Under 15 vs Enrollment (Normalized % Scale)')\n",
    "plt.ylabel('Percentage of Max Value')\n",
    "plt.tight_layout()\n",
    "plt.show()\n",
    "\n",
    "\n"
   ]
  },
  {
   "cell_type": "code",
   "execution_count": null,
   "metadata": {},
   "outputs": [],
   "source": [
    "# Group and pivot to show numbers instead of plotting\n",
    "region_enrollment_trends = df.groupby(['Region', 'Year'])['TS-Enrollment'].sum().reset_index()\n",
    "pivot_table = region_enrollment_trends.pivot(index='Region', columns='Year', values='TS-Enrollment')\n",
    "print(pivot_table)\n",
    "\n"
   ]
  },
  {
   "cell_type": "code",
   "execution_count": null,
   "metadata": {},
   "outputs": [],
   "source": [
    "# Calculate year-over-year changes for population columns (children under 5, 5-9, and 10-14)\n",
    "df['child_under_5_change'] = df.groupby('school_id')['child_under_5'].diff()\n",
    "df['child_5_9_change'] = df.groupby('school_id')['child_5_9'].diff()\n",
    "df['child_10_14_change'] = df.groupby('school_id')['child_10_14'].diff()\n",
    "\n",
    "# Group by region and calculate the average changes in population by age group\n",
    "age_group_columns = ['child_under_5_change', 'child_5_9_change', 'child_10_14_change']\n",
    "demographic_change_by_region = df.groupby('Region')[age_group_columns].mean().reset_index()\n",
    "\n",
    "# Plotting the demographic changes by region for different age groups as line plots\n",
    "plt.figure(figsize=(12, 6))\n",
    "\n",
    "# Plot each age group change as a line\n",
    "for col in age_group_columns:\n",
    "    plt.plot(demographic_change_by_region['Region'], demographic_change_by_region[col], label=col)\n",
    "\n",
    "# Customize plot\n",
    "plt.title('Average Demographic Shifts by Region (Line Plot)')\n",
    "plt.xlabel('Region')\n",
    "plt.ylabel('Average Change in Population')\n",
    "plt.xticks(rotation=45)\n",
    "plt.grid(True)\n",
    "plt.legend(title='Age Group')\n",
    "plt.tight_layout()\n",
    "\n",
    "# Show plot\n",
    "plt.show()\n",
    "\n"
   ]
  },
  {
   "cell_type": "code",
   "execution_count": null,
   "metadata": {},
   "outputs": [],
   "source": [
    "# Group by region and year, calculating the sum for each child age group and enrollment\n",
    "trend_data = df.groupby(['Region', 'Year'])[['child_under_5', 'child_5_9', 'child_10_14', 'TS-Enrollment']].sum().reset_index()\n",
    "\n",
    "# List of regions\n",
    "regions = trend_data['Region'].unique()\n",
    "\n",
    "# Plotting the trends for each region\n",
    "for region in regions:\n",
    "    plt.figure(figsize=(12, 6))\n",
    "    \n",
    "    # Filter data for the current region\n",
    "    region_data = trend_data[trend_data['Region'] == region]\n",
    "    \n",
    "    # Primary axis for age groups\n",
    "    fig, ax1 = plt.subplots(figsize=(12, 6))\n",
    "    ax1.plot(region_data['Year'], region_data['child_under_5'], label='Children Under 5', marker='o')\n",
    "    ax1.plot(region_data['Year'], region_data['child_5_9'], label='Children 5-9', marker='o')\n",
    "    ax1.plot(region_data['Year'], region_data['child_10_14'], label='Children 10-14', marker='o')\n",
    "    \n",
    "    ax1.set_xlabel('Year')\n",
    "    ax1.set_ylabel('Population', labelpad=15)\n",
    "    ax1.set_title(f'Population Trends and Enrollment in {region} Over the Years')\n",
    "    ax1.grid(True)\n",
    "    \n",
    "    # Secondary axis for Enrollment\n",
    "    ax2 = ax1.twinx()\n",
    "    ax2.plot(region_data['Year'], region_data['TS-Enrollment'], label='Enrollment', linestyle='--', color='black', marker='x')\n",
    "    ax2.set_ylabel('Enrollment', labelpad=15)\n",
    "    \n",
    "    # Legends outside the graph\n",
    "    ax1.legend(title='Age Group', bbox_to_anchor=(1.05, 1), loc='upper left')\n",
    "    ax2.legend(title='Enrollment', bbox_to_anchor=(1.05, 0.80), loc='upper left')\n",
    "    \n",
    "    plt.xticks(rotation=45)\n",
    "    plt.tight_layout()\n",
    "    plt.show()\n"
   ]
  },
  {
   "cell_type": "code",
   "execution_count": null,
   "metadata": {
    "scrolled": true
   },
   "outputs": [],
   "source": [
    "# Generate two different color palettes, one for upward and one for downward trends\n",
    "upward_colors = sns.color_palette(\"tab20\", len(df['Name'].unique()))\n",
    "downward_colors = sns.color_palette(\"dark:red\", len(df['Name'].unique()))\n",
    "\n",
    "# Map school names to unique colors for upward and downward trends\n",
    "school_colors_upward = {school_name: upward_colors[i] for i, school_name in enumerate(df['Name'].unique())}\n",
    "school_colors_downward = {school_name: downward_colors[i] for i, school_name in enumerate(df['Name'].unique())}\n",
    "\n",
    "# Calculate enrollment changes\n",
    "df['enrollment_change'] = df.groupby('Name')['TS-Enrollment'].diff()\n",
    "\n",
    "# Group by region and plot trends\n",
    "regions = df['Region'].unique()\n",
    "\n",
    "for region in regions:\n",
    "    region_data = df[df['Region'] == region]\n",
    "    \n",
    "    plt.figure(figsize=(14, 8))\n",
    "    \n",
    "    for school_name, school_data in region_data.groupby('Name'):\n",
    "        if school_data['enrollment_change'].iloc[-1] < 0:\n",
    "            color = school_colors_downward[school_name]\n",
    "            plt.plot(school_data['Year'], school_data['TS-Enrollment'], label=f'{school_name} (Downward)', color=color, linestyle='--')\n",
    "        else:\n",
    "            color = school_colors_upward[school_name]\n",
    "            plt.plot(school_data['Year'], school_data['TS-Enrollment'], label=f'{school_name} (Upward)', color=color)\n",
    "    \n",
    "    plt.title(f'Enrollment Trends for Schools in {region}')\n",
    "    plt.xlabel('Year')\n",
    "    plt.ylabel('Enrollment')\n",
    "    plt.legend(bbox_to_anchor=(1.05, 1), loc='upper left')\n",
    "    plt.xticks(rotation=45)\n",
    "    plt.tight_layout()\n",
    "    plt.show()\n"
   ]
  },
  {
   "cell_type": "code",
   "execution_count": null,
   "metadata": {},
   "outputs": [],
   "source": [
    "df['Year'] = df['Year'].astype(str)\n",
    "\n",
    "# Defining the regions\n",
    "regions = df['Region'].unique()\n",
    "plt.figure(figsize=(16, len(regions) * 6))\n",
    "\n",
    "# Region wise plots\n",
    "for i, region in enumerate(regions, 1):\n",
    "    # Filter data for each region\n",
    "    region_data = df[df['Region'] == region]\n",
    "    \n",
    "    # Set up the subplot for each region\n",
    "    ax1 = plt.subplot(len(regions), 1, i)\n",
    "    \n",
    "    # Line plot for 'tuition_fees_finaid_scholarships'\n",
    "    sns.lineplot(data=region_data, x='Year', y='tuition_fees_finaid_scholarships', ax=ax1, color='blue', label='Tuition Fees Trend', marker='o')\n",
    "\n",
    "    # Create a secondary y-axis for the bar charts (enrollment data)\n",
    "    ax2 = ax1.twinx()\n",
    "\n",
    "    # Define the bar width\n",
    "    width = 0.25\n",
    "\n",
    "    # Get unique years sorted in ascending order\n",
    "    sorted_years = sorted(region_data['Year'].unique())\n",
    "\n",
    "    # Plot the bar charts for enrollment data\n",
    "    ax2.bar([p - width for p in range(len(sorted_years))], region_data.groupby('Year')['TS-Catholic'].sum(), width=width, label='Catholic Enrollment', color='green', align='center')\n",
    "    ax2.bar(range(len(sorted_years)), region_data.groupby('Year')['TS-Non-Catholic'].sum(), width=width, label='Non-Catholic Enrollment', color='orange', align='center')\n",
    "    ax2.bar([p + width for p in range(len(sorted_years))], region_data.groupby('Year')['TS-Hispanic'].sum(), width=width, label='Hispanic Enrollment', color='red', align='center')\n",
    "\n",
    "    # Label the axes\n",
    "    ax1.set_ylabel('Tuition Fees & Scholarships', color='blue')\n",
    "    ax2.set_ylabel('Enrollment Numbers', color='black')\n",
    "    ax1.set_xlabel('Year')\n",
    "    ax1.set_title(f'Tuition & Demographics in {region}')\n",
    "    \n",
    "    # Set x-ticks as sorted years\n",
    "    ax1.set_xticks(range(len(sorted_years)))\n",
    "    ax1.set_xticklabels(sorted_years, rotation=45)\n",
    "\n",
    "    # Move the legends outside the graph\n",
    "    ax1.legend(loc='upper left', bbox_to_anchor=(1.05, 1), title='Tuition Fees', frameon=False)\n",
    "    ax2.legend(loc='upper left', bbox_to_anchor=(1.05, 0.6), title='Enrollment', frameon=False)\n",
    "\n",
    "# Adjust layout to avoid overlapping elements\n",
    "plt.tight_layout()\n",
    "\n",
    "# Show the plot\n",
    "plt.show()\n"
   ]
  },
  {
   "cell_type": "code",
   "execution_count": null,
   "metadata": {},
   "outputs": [],
   "source": [
    "df['Income Below Poverty Level'] = df['Income Below Poverty Level (Male)'] + df['Income Below Poverty Level (Female)']\n",
    "\n",
    "df_region = df.groupby('Region')[['Income Below Poverty Level', 'TS-Enrollment']].sum().reset_index()\n",
    "\n",
    "fig, ax1 = plt.subplots(figsize=(12, 8))\n",
    "\n",
    "ax1.bar(df_region['Region'], df_region['Income Below Poverty Level'], color='coral', alpha=0.6, label='Income Below Poverty Level')\n",
    "\n",
    "ax1.set_xlabel('Region')\n",
    "ax1.set_ylabel('Income Below Poverty Level', color='coral')\n",
    "\n",
    "ax2 = ax1.twinx()\n",
    "ax2.plot(df_region['Region'], df_region['TS-Enrollment'], color='red', marker='o', linestyle='--', label='TS-Enrollments')\n",
    "\n",
    "ax2.set_ylabel('TS-Enrollments', color='red')\n",
    "\n",
    "ax1.set_title('Income Below Poverty Level vs TS-Enrollments by Region')\n",
    "\n",
    "ax1.set_xticklabels(df_region['Region'], rotation=45)\n",
    "\n",
    "ax1.legend(loc='upper left')\n",
    "ax2.legend(loc='upper right')\n",
    "\n",
    "plt.tight_layout()\n",
    "\n",
    "plt.show()\n"
   ]
  },
  {
   "cell_type": "code",
   "execution_count": null,
   "metadata": {},
   "outputs": [],
   "source": [
    "df['Income Below Poverty Level'] = df['Income Below Poverty Level (Male)'] + df['Income Below Poverty Level (Female)']\n",
    "df['Income At or Above Poverty Level'] = df['Income At or Above Poverty Level (Male)'] + df['Income At or Above Poverty Level (Female)']\n",
    "\n",
    "df_region = df.groupby('Region')[['Income Below Poverty Level', 'Income At or Above Poverty Level', 'TS-Enrollment']].sum().reset_index()\n",
    "\n",
    "fig, ax1 = plt.subplots(figsize=(12, 8))\n",
    "\n",
    "ax1.bar(df_region['Region'], df_region['Income Below Poverty Level'], color='blue', alpha=0.6, label='Income Below Poverty Level')\n",
    "ax1.bar(df_region['Region'], df_region['Income At or Above Poverty Level'], bottom=df_region['Income Below Poverty Level'], color='orange', alpha=0.6, label='Income At or Above Poverty Level')\n",
    "\n",
    "ax1.set_xlabel('Region', labelpad=20)\n",
    "ax1.set_ylabel('Population', color='blue', labelpad=20)\n",
    "\n",
    "ax2 = ax1.twinx()\n",
    "ax2.plot(df_region['Region'], df_region['TS-Enrollment'], color='coral', marker='o', linestyle='--', label='TS-Enrollments')\n",
    "\n",
    "ax2.set_ylabel('TS-Enrollments', color='red', labelpad=20)\n",
    "\n",
    "ax1.set_title('Income Below and At or Above Poverty Level vs TS-Enrollments by Region')\n",
    "\n",
    "ax1.set_xticks(df_region['Region'])\n",
    "ax1.set_xticklabels(df_region['Region'], rotation=45, ha='right')\n",
    "\n",
    "ax1.legend(loc='upper left', bbox_to_anchor=(1, 1), title='Income Levels')\n",
    "ax2.legend(loc='upper right', bbox_to_anchor=(1.30, 0.85), title='TS-Enrollments')\n",
    "\n",
    "plt.tight_layout()\n",
    "\n",
    "plt.show()\n"
   ]
  },
  {
   "cell_type": "code",
   "execution_count": null,
   "metadata": {},
   "outputs": [],
   "source": [
    "df['Income Below Poverty Level'] = df['Income Below Poverty Level (Male)'] + df['Income Below Poverty Level (Female)']\n",
    "df['Income At or Above Poverty Level'] = df['Income At or Above Poverty Level (Male)'] + df['Income At or Above Poverty Level (Female)']\n",
    "\n",
    "# Group by Region and Year\n",
    "df_region_year = df.groupby(['Region', 'Year'])[['Income Below Poverty Level', 'Income At or Above Poverty Level', 'TS-Enrollment']].sum().reset_index()\n",
    "\n",
    "# Creating separate plots for each region\n",
    "for region in df_region_year['Region'].unique():\n",
    "    region_data = df_region_year[df_region_year['Region'] == region]\n",
    "    \n",
    "    fig, ax1 = plt.subplots(figsize=(11, 7))\n",
    "\n",
    "    # Bar plot for income levels by year\n",
    "    ax1.bar(region_data['Year'], region_data['Income Below Poverty Level'], color='blue', alpha=0.6, label='Income Below Poverty Level')\n",
    "    ax1.bar(region_data['Year'], region_data['Income At or Above Poverty Level'], bottom=region_data['Income Below Poverty Level'], color='orange', alpha=0.6, label='Income At or Above Poverty Level')\n",
    "\n",
    "    ax1.set_xlabel('Year', labelpad=20)\n",
    "    ax1.set_ylabel('Population', color='blue', labelpad=20)\n",
    "\n",
    "    # Line plot for TS-Enrollments by year\n",
    "    ax2 = ax1.twinx()\n",
    "    ax2.plot(region_data['Year'], region_data['TS-Enrollment'], color='coral', marker='o', linestyle='--', label='TS-Enrollments')\n",
    "\n",
    "    ax2.set_ylabel('TS-Enrollments', color='red', labelpad=20)\n",
    "\n",
    "    ax1.set_title(f'Income Below and At or Above Poverty Level vs TS-Enrollments for {region} (Year-wise)')\n",
    "\n",
    "    # Rotate and adjust x-axis labels\n",
    "    ax1.set_xticks(region_data['Year'])\n",
    "    ax1.set_xticklabels(region_data['Year'], rotation=45, ha='right')\n",
    "\n",
    "    # Legends\n",
    "    ax1.legend(loc='upper left', bbox_to_anchor=(1.2, 1), title='Income Levels')\n",
    "    ax2.legend(loc='upper right', bbox_to_anchor=(1.70, 0.85), title='TS-Enrollments')\n",
    "\n",
    "    plt.tight_layout()\n",
    "\n",
    "    # Show plot for this region\n",
    "    plt.show()\n"
   ]
  },
  {
   "cell_type": "code",
   "execution_count": null,
   "metadata": {},
   "outputs": [],
   "source": [
    "# Correlation between TS-Enrollment and Tuition Fees & Financial Aid\n",
    "correlation_enrollment_tuition = df[['TS-Enrollment', 'tuition_fees_finaid_scholarships']].corr().iloc[0, 1]\n",
    "\n",
    "# Correlation between TS-Enrollment and Income Below Poverty Level\n",
    "correlation_enrollment_income_below = df[['TS-Enrollment', 'Income Below Poverty Level']].corr().iloc[0, 1]\n",
    "\n",
    "# Correlation between TS-Enrollment and Income At or Above Poverty Level\n",
    "correlation_enrollment_income_above = df[['TS-Enrollment', 'Income At or Above Poverty Level']].corr().iloc[0, 1]\n",
    "\n",
    "print(f\"Correlation between TS-Enrollment and Tuition Fees & Financial Aid: {correlation_enrollment_tuition}\")\n",
    "print(f\"Correlation between TS-Enrollment and Income Below Poverty Level: {correlation_enrollment_income_below}\")\n",
    "print(f\"Correlation between TS-Enrollment and Income At or Above Poverty Level: {correlation_enrollment_income_above}\")\n"
   ]
  },
  {
   "cell_type": "code",
   "execution_count": null,
   "metadata": {},
   "outputs": [],
   "source": [
    "df_region_family_size_tuition = df.groupby('Region')[['Avg Family Size', 'tuition_fees_finaid_scholarships']].mean().reset_index()\n",
    "\n",
    "fig, ax1 = plt.subplots(figsize=(12, 8))\n",
    "\n",
    "ax1.bar(df_region_family_size_tuition['Region'], df_region_family_size_tuition['Avg Family Size'], color='skyblue', alpha=0.6, label='Avg Family Size')\n",
    "\n",
    "ax1.set_xlabel('Region', labelpad=20)\n",
    "ax1.set_ylabel('Average Family Size', color='skyblue', labelpad=20)\n",
    "\n",
    "ax2 = ax1.twinx()\n",
    "ax2.plot(df_region_family_size_tuition['Region'], df_region_family_size_tuition['tuition_fees_finaid_scholarships'], color='black', marker='o', linestyle='--', label='Tuition Fees & Financial Aid')\n",
    "\n",
    "ax2.set_ylabel('Tuition Fees & Financial Aid', color='black', labelpad=20)\n",
    "\n",
    "ax1.set_title('Family Size vs Tuition Fees & Financial Aid by Region')\n",
    "\n",
    "ax1.set_xticks(df_region_family_size_tuition['Region'])\n",
    "ax1.set_xticklabels(df_region_family_size_tuition['Region'], rotation=45, ha='right')\n",
    "\n",
    "ax1.legend(loc='upper left', bbox_to_anchor=(1, 1), title='Family Size')\n",
    "ax2.legend(loc='upper right', bbox_to_anchor=(1.3, 0.85), title='Tuition & Financial Aid')\n",
    "\n",
    "plt.tight_layout()\n",
    "plt.show()\n"
   ]
  },
  {
   "cell_type": "code",
   "execution_count": null,
   "metadata": {},
   "outputs": [],
   "source": [
    "correlation = df[['Avg Family Size', 'tuition_fees_finaid_scholarships']].corr().iloc[0, 1]\n",
    "print(f\"Correlation between Family Size and Tuition Fees & Financial Aid: {correlation}\")\n"
   ]
  },
  {
   "cell_type": "code",
   "execution_count": null,
   "metadata": {},
   "outputs": [],
   "source": [
    "# Calculate the correlation matrix for numeric columns only\n",
    "numeric_df = df.select_dtypes(include=['number'])\n",
    "correlation_matrix = numeric_df.corr()\n",
    "\n",
    "# Define the pairs of variables to analyze\n",
    "variable_pairs = [\n",
    "    ('Income Below Poverty Level', 'TS-Enrollment'),\n",
    "    ('Income At or Above Poverty Level', 'TS-Enrollment'),\n",
    "    ('Income Below Poverty Level', 'tuition_fees_finaid_scholarships'),\n",
    "    ('Income At or Above Poverty Level', 'tuition_fees_finaid_scholarships')\n",
    "]\n",
    "\n",
    "# Calculate and display the correlation coefficients for each pair\n",
    "for var1, var2 in variable_pairs:\n",
    "    if var1 in numeric_df.columns and var2 in numeric_df.columns:\n",
    "        correlation = correlation_matrix.loc[var1, var2]\n",
    "        print(f\"Pearson correlation between '{var1}' and '{var2}': {correlation:.2f}\")\n",
    "    else:\n",
    "        print(f\"One or both variables '{var1}' and '{var2}' are not numeric columns.\")\n"
   ]
  },
  {
   "cell_type": "code",
   "execution_count": null,
   "metadata": {},
   "outputs": [],
   "source": [
    "# Group by Year and sum\n",
    "year_data = df.groupby('Year')[['TS-Enrollment', 'fulcrum_total_app', 'fulcrum_grant_count']].sum()\n",
    "\n",
    "# Set up plot\n",
    "x = np.arange(len(year_data))\n",
    "bar_width = 0.25\n",
    "fig, ax = plt.subplots(figsize=(10, 6))\n",
    "\n",
    "# Bars\n",
    "ax.bar(x - bar_width, year_data['TS-Enrollment'], width=bar_width, color='lightgreen', label='Enrollment')\n",
    "ax.bar(x, year_data['fulcrum_total_app'], width=bar_width, color='royalblue', label='Financial Aid Apps')\n",
    "ax.bar(x + bar_width, year_data['fulcrum_grant_count'], width=bar_width, color='lightcoral', label='Grant Count')\n",
    "\n",
    "# Labels and ticks\n",
    "ax.set_title('Enrollment, Financial Aid & Grants Over Time (All Schools)')\n",
    "ax.set_xlabel('Year')\n",
    "ax.set_ylabel('Total Amount')\n",
    "ax.set_xticks(x)\n",
    "ax.set_xticklabels(year_data.index)\n",
    "ax.legend(bbox_to_anchor=(1.05, 1), loc='upper left')\n",
    "\n",
    "plt.tight_layout()\n",
    "plt.show()"
   ]
  },
  {
   "cell_type": "code",
   "execution_count": null,
   "metadata": {},
   "outputs": [],
   "source": [
    "# Group by Region and Year, then sum\n",
    "data = df.groupby(['Region', 'Year'])[['TS-Enrollment', 'fulcrum_total_app', 'fulcrum_grant_count']].sum().reset_index()\n",
    "\n",
    "# Plot for each region\n",
    "for region in data['Region'].unique():\n",
    "    region_data = data[data['Region'] == region]\n",
    "    x = np.arange(len(region_data['Year']))\n",
    "    bar_width = 0.25\n",
    "    \n",
    "    plt.figure(figsize=(10, 6))\n",
    "    plt.bar(x - bar_width, region_data['TS-Enrollment'], width=bar_width, color='lightgreen', label='Enrollment')\n",
    "    plt.bar(x, region_data['fulcrum_total_app'], width=bar_width, color='royalblue', label='Financial Aid Apps')\n",
    "    plt.bar(x + bar_width, region_data['fulcrum_grant_count'], width=bar_width, color='lightcoral', label='Grant Count')\n",
    "    \n",
    "    plt.title(f'{region} - Enrollment, Financial Aid & Grants Over Time')\n",
    "    plt.xlabel('Year')\n",
    "    plt.ylabel('Total Amount')\n",
    "    plt.xticks(x, region_data['Year'], rotation=45)\n",
    "    plt.legend(bbox_to_anchor=(1.05, 1), loc='upper left')\n",
    "    plt.tight_layout()\n",
    "    plt.show()"
   ]
  },
  {
   "cell_type": "code",
   "execution_count": null,
   "metadata": {},
   "outputs": [],
   "source": [
    "# Group by Year and sum\n",
    "year_data = df.groupby('Year')[['tuition_fees_finaid_scholarships', 'salaries_51xx']].sum()\n",
    "\n",
    "# Calculate percentage\n",
    "year_data['salary_percentage'] = (year_data['salaries_51xx'] / year_data['tuition_fees_finaid_scholarships']) * 100\n",
    "\n",
    "# Plot\n",
    "fig, ax = plt.subplots(figsize=(10, 6))\n",
    "ax.plot(year_data.index, year_data['salary_percentage'], marker='o', color='teal', label='Salaries % of Tuition Fees')\n",
    "\n",
    "# Add percentage labels and adjust y-limit\n",
    "max_percentage = year_data['salary_percentage'].max()\n",
    "for i, v in enumerate(year_data['salary_percentage']):\n",
    "    ax.text(i, v + 1, f'{v:.1f}%', ha='center', va='bottom')\n",
    "ax.set_ylim(0, max_percentage + 10)  # Add padding above max value\n",
    "\n",
    "# Labels and ticks\n",
    "ax.set_title('Percentage of Tuition Fees Used for Salaries Over Time')\n",
    "ax.set_xlabel('Year')\n",
    "ax.set_ylabel('Percentage (%)')\n",
    "ax.set_xticks(range(len(year_data.index)))\n",
    "ax.set_xticklabels(year_data.index, rotation=45)\n",
    "ax.legend(bbox_to_anchor=(1.05, 1), loc='upper left')\n",
    "ax.grid(True)\n",
    "\n",
    "plt.tight_layout()\n",
    "plt.show()"
   ]
  },
  {
   "cell_type": "code",
   "execution_count": null,
   "metadata": {},
   "outputs": [],
   "source": [
    "# Group by Year and sum\n",
    "year_data = df.groupby('Year')[['tuition_fees_finaid_scholarships', 'Owner-Occupied Units', 'Renter-Occupied Units']].sum()\n",
    "\n",
    "# Set up plot\n",
    "x = np.arange(len(year_data))\n",
    "bar_width = 0.35\n",
    "fig, ax1 = plt.subplots(figsize=(10, 6))\n",
    "\n",
    "# Bars for housing units\n",
    "ax1.bar(x - bar_width/2, year_data['Owner-Occupied Units'], width=bar_width, color='teal', label='Owner-Occupied Units')\n",
    "ax1.bar(x + bar_width/2, year_data['Renter-Occupied Units'], width=bar_width, color='lightcoral', label='Renter-Occupied Units')\n",
    "ax1.set_xlabel('Year')\n",
    "ax1.set_ylabel('Number of Units')\n",
    "ax1.set_xticks(x)\n",
    "ax1.set_xticklabels(year_data.index, rotation=45)\n",
    "\n",
    "# Trend line for Tuition Fees on secondary axis\n",
    "ax2 = ax1.twinx()\n",
    "ax2.plot(x, year_data['tuition_fees_finaid_scholarships'], marker='o', color='black', label='Tuition Fees')\n",
    "ax2.set_ylabel('Tuition Fees, FinAid, Scholarships ($)')\n",
    "\n",
    "# Legends outside\n",
    "ax1.legend(loc='upper left', bbox_to_anchor=(1.15, 1))\n",
    "ax2.legend(loc='upper left', bbox_to_anchor=(1.15, 0.85))\n",
    "\n",
    "plt.title('Owner/Renter-Occupied Units with Tuition Fees Trend Over Time')\n",
    "plt.tight_layout()\n",
    "plt.show()"
   ]
  },
  {
   "cell_type": "code",
   "execution_count": null,
   "metadata": {},
   "outputs": [],
   "source": [
    "# Group by Year and sum\n",
    "year_data = df.groupby('Year')[['TS-Enrollment', 'Owner-Occupied Units', 'Renter-Occupied Units']].sum()\n",
    "\n",
    "# Set up plot\n",
    "x = np.arange(len(year_data))\n",
    "bar_width = 0.35\n",
    "fig, ax1 = plt.subplots(figsize=(10, 6))\n",
    "\n",
    "# Bars for housing units\n",
    "ax1.bar(x - bar_width/2, year_data['Owner-Occupied Units'], width=bar_width, color='teal', label='Owner-Occupied Units')\n",
    "ax1.bar(x + bar_width/2, year_data['Renter-Occupied Units'], width=bar_width, color='lightcoral', label='Renter-Occupied Units')\n",
    "ax1.set_xlabel('Year')\n",
    "ax1.set_ylabel('Number of Units')\n",
    "ax1.set_xticks(x)\n",
    "ax1.set_xticklabels(year_data.index, rotation=45)\n",
    "\n",
    "# Trend line for Tuition Fees on secondary axis\n",
    "ax2 = ax1.twinx()\n",
    "ax2.plot(x, year_data['TS-Enrollment'], marker='o', color='black', label='Tuition Fees')\n",
    "ax2.set_ylabel('Tuition Fees, FinAid, Scholarships ($)')\n",
    "\n",
    "# Legends outside\n",
    "ax1.legend(loc='upper left', bbox_to_anchor=(1.15, 1))\n",
    "ax2.legend(loc='upper left', bbox_to_anchor=(1.15, 0.85))\n",
    "\n",
    "plt.title('Owner/Renter-Occupied Units with Tuition Fees Trend Over Time')\n",
    "plt.tight_layout()\n",
    "plt.show()"
   ]
  },
  {
   "cell_type": "code",
   "execution_count": null,
   "metadata": {},
   "outputs": [],
   "source": [
    "# Group by Year and Region, summing tuition fees and total population\n",
    "data = df.groupby(['Year', 'Region'])[['tuition_fees_finaid_scholarships', 'Total Population']].sum().reset_index()\n",
    "\n",
    "# Plot for each year\n",
    "for year in data['Year'].unique():\n",
    "    year_data = data[data['Year'] == year]\n",
    "    \n",
    "    fig, ax = plt.subplots(figsize=(10, 6))\n",
    "    for region in year_data['Region'].unique():\n",
    "        region_data = year_data[year_data['Region'] == region]\n",
    "        ax.scatter(region_data['Total Population'], region_data['tuition_fees_finaid_scholarships'], \n",
    "                   label=region, s=100, alpha=0.7)\n",
    "    \n",
    "    ax.set_title(f'Tuition Fees vs Total Population by Region ({year})')\n",
    "    ax.set_xlabel('Total Population')\n",
    "    ax.set_ylabel('Tuition Fees, FinAid, Scholarships ($)')\n",
    "    ax.legend(bbox_to_anchor=(1.05, 1), loc='upper left', title='Region')\n",
    "    ax.grid(True)\n",
    "    \n",
    "    plt.tight_layout()\n",
    "    plt.show()"
   ]
  },
  {
   "cell_type": "code",
   "execution_count": null,
   "metadata": {},
   "outputs": [],
   "source": [
    "# Group by Region, summing tuition fees and total population across all years\n",
    "data = df.groupby('Region')[['tuition_fees_finaid_scholarships', 'Total Population']].sum().reset_index()\n",
    "\n",
    "# Plot\n",
    "fig, ax = plt.subplots(figsize=(10, 6))\n",
    "for region in data['Region'].unique():\n",
    "    region_data = data[data['Region'] == region]\n",
    "    ax.scatter(region_data['Total Population'], region_data['tuition_fees_finaid_scholarships'], \n",
    "               label=region, s=100, alpha=0.7)\n",
    "\n",
    "# Labels\n",
    "ax.set_title('Tuition Fees vs Total Population by Region (All Years)')\n",
    "ax.set_xlabel('Total Population')\n",
    "ax.set_ylabel('Tuition Fees, FinAid, Scholarships ($)')\n",
    "ax.legend(bbox_to_anchor=(1.05, 1), loc='upper left', title='Region')\n",
    "ax.grid(True)\n",
    "\n",
    "plt.tight_layout()\n",
    "plt.show()"
   ]
  },
  {
   "cell_type": "code",
   "execution_count": null,
   "metadata": {},
   "outputs": [],
   "source": []
  }
 ],
 "metadata": {
  "colab": {
   "provenance": []
  },
  "kernelspec": {
   "display_name": "Python 3 (ipykernel)",
   "language": "python",
   "name": "python3"
  },
  "language_info": {
   "codemirror_mode": {
    "name": "ipython",
    "version": 3
   },
   "file_extension": ".py",
   "mimetype": "text/x-python",
   "name": "python",
   "nbconvert_exporter": "python",
   "pygments_lexer": "ipython3",
   "version": "3.12.4"
  }
 },
 "nbformat": 4,
 "nbformat_minor": 4
}
