{
 "cells": [
  {
   "cell_type": "code",
   "execution_count": null,
   "metadata": {},
   "outputs": [],
   "source": [
    "import pandas as pd\n",
    "import numpy as np\n",
    "import geopandas as gpd\n",
    "import re\n",
    "import os\n",
    "import matplotlib.pyplot as plt\n",
    "from sklearn.experimental import enable_iterative_imputer\n",
    "from sklearn.impute import IterativeImputer"
   ]
  },
  {
   "cell_type": "markdown",
   "metadata": {},
   "source": [
    "https://ospi.k12.wa.us/data-reporting/data-portal?title=enrollment&field_years1_target_id=All&field_data_domain_target_id=1647&field_level_of_aggregation_target_id=All&field_grade_span_target_id=All"
   ]
  },
  {
   "cell_type": "code",
   "execution_count": null,
   "metadata": {},
   "outputs": [],
   "source": [
    "all_zips = pd.read_excel('Archive/all_zips.xlsx')\n",
    "parish_zip = pd.read_excel('parish_tracts_zips.xlsx')\n",
    "\n",
    "parish_zip = parish_zip.merge(all_zips[['school_id', 'public_school_id']], on='school_id', how='left')\n"
   ]
  },
  {
   "cell_type": "code",
   "execution_count": null,
   "metadata": {},
   "outputs": [],
   "source": [
    "parish_zip.head()"
   ]
  },
  {
   "cell_type": "code",
   "execution_count": null,
   "metadata": {},
   "outputs": [],
   "source": [
    "# Read in Data\n",
    "\n",
    "# School performance data \n",
    "report_card_df1 = pd.read_csv('Public Data/Report_Card_Spring_Assessment_Data_from_2014-15_to_2021-22_20250401.csv', dtype={'CurrentSchoolType': str} )\n",
    "report_card_df2 = pd.read_csv('Public Data/Report_Card_Assessment_Data_2022-23_School_Year_20250401.csv', dtype={'CurrentSchoolType': str})\n",
    "\n",
    "# School enrollment data\n",
    "enrollment_df = pd.read_csv('Public Data/Report_Card_Enrollment_from_2014-15_to_Current_Year_20250401.csv')\n"
   ]
  },
  {
   "cell_type": "markdown",
   "metadata": {},
   "source": [
    "# School assessments"
   ]
  },
  {
   "cell_type": "code",
   "execution_count": null,
   "metadata": {},
   "outputs": [],
   "source": [
    "# Filter for school level data\n",
    "orgs_to_drop = ['district', 'state', 'esd']\n",
    "school_report_card_df1 = report_card_df1[~report_card_df1['OrganizationLevel'].str.lower().isin(orgs_to_drop)]\n",
    "\n",
    "report_card_df2['OrganizationLevel'] = report_card_df2['OrganizationLevel'].astype(str).str.strip()\n",
    "school_report_card_df2 = report_card_df2[report_card_df2['OrganizationLevel'] == 'School']\n",
    "\n",
    "# Filter for correct years\n",
    "\n",
    "years_to_drop = ['2014-15', '2015-16', '2016-17', '2017-18']\n",
    "\n",
    "school_report_card_df1 = school_report_card_df1[~school_report_card_df1['SchoolYear'].isin(years_to_drop)]\n",
    "\n",
    "# Filter for public schools \n",
    "school_report_card_df1 = school_report_card_df1[school_report_card_df1['CurrentSchoolType']==\"P\"]\n",
    "school_report_card_df2 = school_report_card_df2[school_report_card_df2['CurrentSchoolType']==\"P\"]\n",
    "\n",
    "# Filter for student group: All\n",
    "school_report_card_df1 = school_report_card_df1[school_report_card_df1['StudentGroupType'] == 'All']\n",
    "school_report_card_df2 = school_report_card_df2[school_report_card_df2['StudentGroupType'] == 'All']\n",
    "\n",
    "# Filter for all grades\n",
    "school_report_card_df1 = school_report_card_df1[school_report_card_df1['GradeLevel']==\"All Grades\"]\n",
    "school_report_card_df2 = school_report_card_df2[school_report_card_df2['GradeLevel']==\"All Grades\"]\n",
    "\n",
    "# Filter for SBAC – Smarter Balanced Assessment Consortium (used for standardized testing in English Language Arts and Mathematics)\n",
    "school_report_card_df1 = school_report_card_df1[school_report_card_df1['TestAdministration']=='SBAC']\n",
    "school_report_card_df2 = school_report_card_df2[school_report_card_df2['TestAdministration']=='SBAC']\n",
    "\n",
    "# Rename to match \n",
    "school_report_card_df2 = school_report_card_df2.rename(columns={'Percent Consistent Grade Level Knowledge And Above':'PercentMetStandard'})\n",
    "\n",
    "\n"
   ]
  },
  {
   "cell_type": "code",
   "execution_count": null,
   "metadata": {},
   "outputs": [],
   "source": [
    "school_report_card_df1.columns"
   ]
  },
  {
   "cell_type": "code",
   "execution_count": null,
   "metadata": {},
   "outputs": [],
   "source": [
    "# Drop unwanted columns \n",
    "\n",
    "filtered_school_report_df1 = school_report_card_df1.drop(['OrganizationLevel','County', 'ESDName',\n",
    "       'ESDOrganizationID', 'DistrictCode', 'DistrictName','DistrictOrganizationId', 'SchoolOrganizationid', 'TestAdministration', \n",
    "       'Suppression', 'Count of Students Expected to Test','CountofStudentsExpectedtoTest(including previously passed)',\n",
    "       'PercentMetTestedOnly', 'Percent No Score', 'DataAsOf', 'GradeLevel', 'CountMetStandard', 'CurrentSchoolType',\n",
    "       'StudentGroupType', 'StudentGroup'], axis=1)\n",
    "\n",
    "filtered_school_report_df2 = school_report_card_df2.drop(['OrganizationLevel','County', 'ESDName',\n",
    "       'ESDOrganizationId', 'DistrictCode', 'DistrictName',\n",
    "       'DistrictOrganizationId', 'TestAdministration', 'DAT', 'Count of Students Expected to Test',\n",
    "       'Count of Students Expected to Test (included previously passed)',\n",
    "       'Count Consistent Grade Level Knowledge And Above', 'Percent Consistent Tested Only', 'PercentNoScore',\n",
    "       'PercentParticipation', 'DataAsOf', 'GradeLevel', 'SchoolOrganizationId', 'CurrentSchoolType',\n",
    "       'StudentGroupType', 'StudentGroup'], axis=1)"
   ]
  },
  {
   "cell_type": "code",
   "execution_count": null,
   "metadata": {},
   "outputs": [],
   "source": [
    "# Check columns\n",
    "filtered_school_report_df1.columns"
   ]
  },
  {
   "cell_type": "code",
   "execution_count": null,
   "metadata": {},
   "outputs": [],
   "source": [
    "# Check columns\n",
    "filtered_school_report_df2.columns"
   ]
  },
  {
   "cell_type": "code",
   "execution_count": null,
   "metadata": {},
   "outputs": [],
   "source": [
    "combined_school_report = pd.concat([filtered_school_report_df1, filtered_school_report_df2], ignore_index=True)\n",
    "\n",
    "# Change school code into int\n",
    "combined_school_report['SchoolCode'] = combined_school_report['SchoolCode'].astype(int)\n",
    "\n",
    "# Change percent into float\n",
    "combined_school_report['PercentMetStandard'] = combined_school_report['PercentMetStandard'].str.replace(r'[^0-9.]', '', regex=True)\n",
    "combined_school_report['PercentMetStandard'] = combined_school_report['PercentMetStandard'].replace('', np.nan).astype(float)/100\n",
    "\n",
    "# Drop homeschool - no enrollment data\n",
    "combined_school_report = combined_school_report[combined_school_report['SchoolCode'] != 5390]"
   ]
  },
  {
   "cell_type": "code",
   "execution_count": null,
   "metadata": {},
   "outputs": [],
   "source": [
    "parish_zip.columns"
   ]
  },
  {
   "cell_type": "code",
   "execution_count": null,
   "metadata": {},
   "outputs": [],
   "source": [
    "parish_zip['public_school_id'] = parish_zip['public_school_id'].astype(str)\n",
    "\n",
    "# Split the codes into lists\n",
    "parish_zip['public_school_id'] = parish_zip['public_school_id'].str.split(',')\n",
    "\n",
    "# Remove any extra whitespace\n",
    "parish_zip['public_school_id'] = parish_zip['public_school_id'].apply(lambda x: [code.strip() for code in x])\n",
    "\n",
    "# Explode the list into separate rows\n",
    "df_expanded = parish_zip.explode('public_school_id').reset_index(drop=True)\n"
   ]
  },
  {
   "cell_type": "code",
   "execution_count": null,
   "metadata": {},
   "outputs": [],
   "source": [
    "df_expanded"
   ]
  },
  {
   "cell_type": "code",
   "execution_count": null,
   "metadata": {},
   "outputs": [],
   "source": [
    "combined_school_report['SchoolCode'] = combined_school_report['SchoolCode'].astype(str)\n",
    "\n",
    "school_codes_zips = df_expanded.dropna(subset=['public_school_id'])\n",
    "\n",
    "school_codes_zips['public_school_id'] = school_codes_zips['public_school_id'].astype(str)\n",
    "\n",
    "parish_codes = school_codes_zips[['school_id', 'public_school_id']]\n",
    "\n",
    "parish_codes['school_id'] = parish_codes['school_id'].astype(str)\n"
   ]
  },
  {
   "cell_type": "code",
   "execution_count": null,
   "metadata": {},
   "outputs": [],
   "source": [
    "combined_school_report"
   ]
  },
  {
   "cell_type": "code",
   "execution_count": null,
   "metadata": {},
   "outputs": [],
   "source": [
    "school_codes_zips"
   ]
  },
  {
   "cell_type": "code",
   "execution_count": null,
   "metadata": {},
   "outputs": [],
   "source": [
    "print(parish_codes[parish_codes['public_school_id'] == '3572'])"
   ]
  },
  {
   "cell_type": "code",
   "execution_count": null,
   "metadata": {},
   "outputs": [],
   "source": [
    "# merge for zip codes\n",
    "combined_school_report = combined_school_report.merge(parish_codes, left_on='SchoolCode', right_on='public_school_id', how='left')"
   ]
  },
  {
   "cell_type": "code",
   "execution_count": null,
   "metadata": {},
   "outputs": [],
   "source": [
    "combined_school_report[combined_school_report['SchoolCode']=='3572']"
   ]
  },
  {
   "cell_type": "code",
   "execution_count": null,
   "metadata": {},
   "outputs": [],
   "source": [
    "combined_school_report.drop(columns='public_school_id', inplace=True)"
   ]
  },
  {
   "cell_type": "code",
   "execution_count": null,
   "metadata": {},
   "outputs": [],
   "source": [
    "combined_school_report"
   ]
  },
  {
   "cell_type": "markdown",
   "metadata": {},
   "source": [
    "# Enrollments"
   ]
  },
  {
   "cell_type": "code",
   "execution_count": null,
   "metadata": {},
   "outputs": [],
   "source": [
    "enrollment_df.columns"
   ]
  },
  {
   "cell_type": "code",
   "execution_count": null,
   "metadata": {},
   "outputs": [],
   "source": [
    "# Filter for school level\n",
    "school_enrollment = enrollment_df[enrollment_df['OrganizationLevel'] == 'School']\n",
    "\n",
    "# Remove years \n",
    "years_to_drop = ['2014-15', '2015-16', '2016-17', '2017-18', '2023-24', '2024-25']\n",
    "school_enrollment = school_enrollment[~school_enrollment['SchoolYear'].isin(years_to_drop)]\n",
    "\n",
    "# Use all grades\n",
    "allgrade_enrollment = school_enrollment[school_enrollment['Gradelevel']=='All Grades']\n",
    "\n",
    "# Public school only\n",
    "public_enrollment_df = allgrade_enrollment[allgrade_enrollment['CurrentSchoolType'] == 'P']\n",
    "\n",
    "# Change school code to int \n",
    "public_enrollment_df.loc[:, 'SchoolCode'] = public_enrollment_df['SchoolCode'].astype(int)\n",
    "\n"
   ]
  },
  {
   "cell_type": "code",
   "execution_count": null,
   "metadata": {},
   "outputs": [],
   "source": [
    "# Drop unused columns\n",
    "filtered_enrollment_df= public_enrollment_df.drop(['OrganizationLevel', 'County', 'ESDName',\n",
    "       'ESDOrganizationID', 'DistrictCode', 'DistrictName',\n",
    "       'DistrictOrganizationId','SchoolOrganizationid', 'CurrentSchoolType','English Language Learners', 'Highly Capable', 'Homeless', 'Low-Income',\n",
    "       'Migrant', 'Military Parent', 'Mobile', 'Section 504',\n",
    "       'Students with Disabilities', 'Non-English Language Learners',\n",
    "       'Non-Highly Capable', 'Non-Homeless', 'Non-Low Income', 'Non Migrant',\n",
    "       'Non Military Parent', 'Non Mobile', 'Non Section 504',\n",
    "       'Students without Disabilities', 'FosterCare', 'Non-FosterCare',\n",
    "       'DataAsOf', 'Gender X'], axis=1).reset_index(drop=True)"
   ]
  },
  {
   "cell_type": "code",
   "execution_count": null,
   "metadata": {},
   "outputs": [],
   "source": [
    "filtered_enrollment_df.columns"
   ]
  },
  {
   "cell_type": "code",
   "execution_count": null,
   "metadata": {},
   "outputs": [],
   "source": [
    "filtered_enrollment_df"
   ]
  },
  {
   "cell_type": "code",
   "execution_count": null,
   "metadata": {},
   "outputs": [],
   "source": [
    "filtered_enrollment_df['SchoolCode'] = filtered_enrollment_df['SchoolCode'].astype(int).astype(str)"
   ]
  },
  {
   "cell_type": "code",
   "execution_count": null,
   "metadata": {},
   "outputs": [],
   "source": [
    "filtered_enrollment_df"
   ]
  },
  {
   "cell_type": "code",
   "execution_count": null,
   "metadata": {},
   "outputs": [],
   "source": [
    "parish_codes.head()"
   ]
  },
  {
   "cell_type": "code",
   "execution_count": null,
   "metadata": {},
   "outputs": [],
   "source": [
    "enrollment_report = filtered_enrollment_df.merge(parish_codes, left_on='SchoolCode', right_on='public_school_id', how='left')"
   ]
  },
  {
   "cell_type": "code",
   "execution_count": null,
   "metadata": {},
   "outputs": [],
   "source": [
    "enrollment_report"
   ]
  },
  {
   "cell_type": "code",
   "execution_count": null,
   "metadata": {},
   "outputs": [],
   "source": [
    "enrollment_report.drop(columns='public_school_id', axis=1, inplace=True)"
   ]
  },
  {
   "cell_type": "code",
   "execution_count": null,
   "metadata": {},
   "outputs": [],
   "source": [
    "enrollment_report.head()"
   ]
  },
  {
   "cell_type": "markdown",
   "metadata": {},
   "source": [
    "#### Aggregate assessments by parish "
   ]
  },
  {
   "cell_type": "code",
   "execution_count": null,
   "metadata": {},
   "outputs": [],
   "source": [
    "parish_enrollment_report = enrollment_report"
   ]
  },
  {
   "cell_type": "code",
   "execution_count": null,
   "metadata": {},
   "outputs": [],
   "source": [
    "schools_names = parish_enrollment_report['SchoolName'].unique()"
   ]
  },
  {
   "cell_type": "code",
   "execution_count": null,
   "metadata": {},
   "outputs": [],
   "source": [
    "for name in schools_names:\n",
    "    print(name)"
   ]
  },
  {
   "cell_type": "code",
   "execution_count": null,
   "metadata": {},
   "outputs": [],
   "source": [
    "# Drop high schools and online/virtual schools\n",
    "schools_to_drop = ['High School', '9-12', 'Intermediate', 'High', 'Online', 'Virtual', 'Industrial Design Engineering and Arts', 'District', 'Technology Access Foundation Academy at Saghalie', 'Impact Public Schools', 'HS', 'Preschool', 'C O Sorenson', 'Summit Public School: Atlas', \n",
    "                   'Rainier Valley Leadership Academy', 'Klahowya Secondary', 'Odyssey Multiage Program', 'Washington Connections Academy - Mary M. Knight', 'Tacoma School of the Arts',\n",
    "                   'University Place Primary', 'Lakeview Hope Academy', 'General William H. Harrison Preparatory School', 'Clover Park Early Learning Program',\n",
    "                   'Conway School District 317', 'ECEAP', 'Pathfinder Kindergarten Center', 'Maplewood Parent Coop', 'Edwin Pratt Learning Center', 'Bellevue Digital Discovery', 'Central Primary Center']\n",
    "\n",
    "pattern = '|'.join(schools_to_drop)\n",
    "\n",
    "parish_school_report = parish_enrollment_report[~parish_enrollment_report['SchoolName'].str.contains(pattern, case=False, na=False)]\n"
   ]
  },
  {
   "cell_type": "code",
   "execution_count": null,
   "metadata": {},
   "outputs": [],
   "source": [
    "parish_school_report.columns"
   ]
  },
  {
   "cell_type": "code",
   "execution_count": null,
   "metadata": {},
   "outputs": [],
   "source": [
    "combined_school_report.columns"
   ]
  },
  {
   "cell_type": "code",
   "execution_count": null,
   "metadata": {},
   "outputs": [],
   "source": [
    "parish_assessment_agg = combined_school_report.groupby(['SchoolYear', 'TestSubject', 'school_id']).agg(\n",
    "    PercentMetStandard=('PercentMetStandard', 'mean'),\n",
    "    PercentLevel1=('PercentLevel1', 'mean'),\n",
    "    PercentLevel2=('PercentLevel2', 'mean'),\n",
    "    PercentLevel3=('PercentLevel3', 'mean'),\n",
    "    PercentLevel4=('PercentLevel4', 'mean')\n",
    ").reset_index()\n",
    "\n",
    "# Pivot each metric separately and rename columns\n",
    "metrics = ['PercentMetStandard', 'PercentLevel1', 'PercentLevel2', 'PercentLevel3', 'PercentLevel4']\n",
    "df_list = []\n",
    "\n",
    "for metric in metrics:\n",
    "    pivoted = parish_assessment_agg.pivot_table(\n",
    "        index=['SchoolYear', 'school_id'],\n",
    "        columns='TestSubject',\n",
    "        values=metric,\n",
    "        aggfunc='first'\n",
    "    )\n",
    "    # Rename columns to include the metric name\n",
    "    pivoted.columns = [f'{metric}_{col}' for col in pivoted.columns]\n",
    "    df_list.append(pivoted)\n",
    "\n",
    "# Combine all the pivoted DataFrames\n",
    "parish_assessment_agg = pd.concat(df_list, axis=1)\n",
    "\n",
    "# Reset index if you want SchoolYear and Name as columns rather than index\n",
    "parish_assessment_agg = parish_assessment_agg.reset_index()"
   ]
  },
  {
   "cell_type": "code",
   "execution_count": null,
   "metadata": {},
   "outputs": [],
   "source": [
    "parish_assessment_agg"
   ]
  },
  {
   "cell_type": "markdown",
   "metadata": {},
   "source": [
    "#### Aggregate enrollment by parish "
   ]
  },
  {
   "cell_type": "code",
   "execution_count": null,
   "metadata": {},
   "outputs": [],
   "source": [
    "parish_enrollment_report.columns"
   ]
  },
  {
   "cell_type": "code",
   "execution_count": null,
   "metadata": {},
   "outputs": [],
   "source": [
    "\n",
    "# Drop high schools and online/virtual schools\n",
    "schools_to_drop = ['High School', '9-12', 'Intermediate', 'High', 'Online', 'Virtual', 'Industrial Design Engineering and Arts', 'District', 'Technology Access Foundation Academy at Saghalie', 'Impact Public Schools', 'HS', 'Preschool', 'C O Sorenson', 'Summit Public School: Atlas', \n",
    "                   'Rainier Valley Leadership Academy', 'Klahowya Secondary', 'Odyssey Multiage Program', 'Washington Connections Academy - Mary M. Knight', 'Tacoma School of the Arts',\n",
    "                   'University Place Primary', 'Lakeview Hope Academy', 'General William H. Harrison Preparatory School', 'Clover Park Early Learning Program',\n",
    "                   'Conway School District 317', 'ECEAP', 'Pathfinder Kindergarten Center', 'Maplewood Parent Coop', 'Edwin Pratt Learning Center', 'Bellevue Digital Discovery', 'Central Primary Center',\n",
    "                   'Crescent School', 'Meadow Crest Early Childhood Education Center', ]\n",
    "pattern = '|'.join(schools_to_drop)\n",
    "\n",
    "parish_school_enrollment = parish_enrollment_report[~parish_enrollment_report['SchoolName'].str.contains(pattern, case=False, na=False)]\n"
   ]
  },
  {
   "cell_type": "code",
   "execution_count": null,
   "metadata": {},
   "outputs": [],
   "source": [
    "parish_school_enrollment['SchoolName'].unique()"
   ]
  },
  {
   "cell_type": "code",
   "execution_count": null,
   "metadata": {},
   "outputs": [],
   "source": [
    "school_codes = combined_school_report['SchoolCode'].unique()"
   ]
  },
  {
   "cell_type": "code",
   "execution_count": null,
   "metadata": {},
   "outputs": [],
   "source": [
    "filtered_parish_school_enrollment = parish_school_enrollment.copy()\n",
    "#filtered_parish_school_enrollment = parish_school_enrollment[parish_school_enrollment['SchoolCode'].isin(school_codes)]"
   ]
  },
  {
   "cell_type": "code",
   "execution_count": null,
   "metadata": {},
   "outputs": [],
   "source": [
    "filtered_parish_school_enrollment.columns"
   ]
  },
  {
   "cell_type": "code",
   "execution_count": null,
   "metadata": {},
   "outputs": [],
   "source": [
    "parish_enrollment_agg = filtered_parish_school_enrollment.groupby(['SchoolYear', 'school_id']).agg(\n",
    "    all_students=('All Students', 'sum'),\n",
    "    female=('Female', 'sum'),\n",
    "    male=('Male', 'sum'),\n",
    "    americanindian_alaskanative=('American Indian/ Alaskan Native', 'sum'),\n",
    "    asian=('Asian', 'sum'),\n",
    "    black_africanamerican=('Black/ African American', 'sum'),\n",
    "    hispanic_latino=('Hispanic/ Latino of any race(s)', 'sum'),\n",
    "    nativehawaiian_pacificislander=('Native Hawaiian/ Other Pacific Islander', 'sum'),\n",
    "    two_more=('Two or More Races', 'sum'),\n",
    "    white=('White', 'sum'),\n",
    "    school_count=('SchoolName', 'nunique')\n",
    ").reset_index()"
   ]
  },
  {
   "cell_type": "code",
   "execution_count": null,
   "metadata": {},
   "outputs": [],
   "source": [
    "parish_assessment_agg"
   ]
  },
  {
   "cell_type": "code",
   "execution_count": null,
   "metadata": {},
   "outputs": [],
   "source": [
    "combined_report_enrollment=parish_enrollment_agg.merge(parish_assessment_agg, on=['SchoolYear', 'school_id'], how='left')\n",
    "merged_df = combined_report_enrollment"
   ]
  },
  {
   "cell_type": "code",
   "execution_count": null,
   "metadata": {},
   "outputs": [],
   "source": [
    "merged_df"
   ]
  },
  {
   "cell_type": "code",
   "execution_count": null,
   "metadata": {},
   "outputs": [],
   "source": [
    "merged_df.columns"
   ]
  },
  {
   "cell_type": "code",
   "execution_count": null,
   "metadata": {},
   "outputs": [],
   "source": [
    "# Change year \n",
    "merged_df['SchoolYear'] = merged_df['SchoolYear'].astype(str).replace({\n",
    "    '2018-19': '2018_19',\n",
    "    '2019-20': '2019_20',\n",
    "    '2020-21': '2020_21',\n",
    "    '2021-22': '2021_22',\n",
    "    '2022-23': '2022_23'\n",
    "})"
   ]
  },
  {
   "cell_type": "code",
   "execution_count": null,
   "metadata": {},
   "outputs": [],
   "source": [
    "merged_df"
   ]
  },
  {
   "cell_type": "code",
   "execution_count": null,
   "metadata": {},
   "outputs": [],
   "source": [
    "merged_df.isna().sum()"
   ]
  },
  {
   "cell_type": "code",
   "execution_count": null,
   "metadata": {},
   "outputs": [],
   "source": [
    "# Numeric and Non-Numeric\n",
    "numeric_df = merged_df.select_dtypes(include=[np.number])\n",
    "non_numeric_df = merged_df.select_dtypes(exclude=[np.number])\n",
    "\n",
    "# Initialize MICE-style imputer\n",
    "imputer = IterativeImputer(random_state=0)\n",
    "\n",
    "# Fit and transform the data\n",
    "imputed_data = imputer.fit_transform(numeric_df)\n",
    "\n",
    "imputed_df = pd.DataFrame(imputed_data, \n",
    "                          columns=numeric_df.columns,\n",
    "                          index=merged_df.index)\n",
    "\n",
    "# Concatenate \n",
    "imputed_merged = pd.concat([non_numeric_df, imputed_df], axis=1)\n"
   ]
  },
  {
   "cell_type": "code",
   "execution_count": null,
   "metadata": {},
   "outputs": [],
   "source": [
    "imputed_merged.columns"
   ]
  },
  {
   "cell_type": "code",
   "execution_count": null,
   "metadata": {},
   "outputs": [],
   "source": [
    "imputed_merged.rename(columns={'americanindian_alaskanative' : 'pub_americanindian_alaskanative', \n",
    "                               'asian' : 'pub_asian', \n",
    "                               'black_africanamerican': 'pub_black_africanamerican',\n",
    "                               'hispanic_latino' : 'pub_hispanic_latino', \n",
    "                               'nativehawaiian_pacificislander' : 'pub_nativehawaiian_pacificislander', \n",
    "                               'two_more' : 'pub_two_more',\n",
    "                               'white' : 'pub_white',\n",
    "                               'female' : 'pub_female',\n",
    "                               'male': 'pub_male',\n",
    "                               'all_students': 'pub_all_students'}, inplace=True)"
   ]
  },
  {
   "cell_type": "code",
   "execution_count": null,
   "metadata": {},
   "outputs": [],
   "source": [
    "imputed_merged"
   ]
  },
  {
   "cell_type": "code",
   "execution_count": null,
   "metadata": {},
   "outputs": [],
   "source": [
    "imputed_merged.to_csv('parish_nces_imputed_data.csv')"
   ]
  }
 ],
 "metadata": {
  "kernelspec": {
   "display_name": "Python 3 (ipykernel)",
   "language": "python",
   "name": "python3"
  },
  "language_info": {
   "codemirror_mode": {
    "name": "ipython",
    "version": 3
   },
   "file_extension": ".py",
   "mimetype": "text/x-python",
   "name": "python",
   "nbconvert_exporter": "python",
   "pygments_lexer": "ipython3",
   "version": "3.12.4"
  }
 },
 "nbformat": 4,
 "nbformat_minor": 4
}
