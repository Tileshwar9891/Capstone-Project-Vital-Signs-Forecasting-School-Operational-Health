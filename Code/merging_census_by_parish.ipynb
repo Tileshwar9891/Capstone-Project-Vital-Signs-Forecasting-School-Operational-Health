{
 "cells": [
  {
   "cell_type": "code",
   "execution_count": null,
   "metadata": {},
   "outputs": [],
   "source": [
    "import pandas as pd\n",
    "import numpy as np"
   ]
  },
  {
   "cell_type": "code",
   "execution_count": null,
   "metadata": {},
   "outputs": [],
   "source": [
    "sponsor = pd.read_csv('clean_sponsor_data.csv')\n",
    "\n",
    "poverty = pd.read_csv('census_poverty_by_parish.csv')\n",
    "\n",
    "housing = pd.read_csv('census_housing_by_parish.csv')\n",
    "\n",
    "age = pd.read_csv('census_age_by_parish.csv')\n",
    "\n",
    "nces = pd.read_csv('parish_nces_imputed_dataV2.csv')\n",
    "\n",
    "employ = pd.read_csv('census_employ_by_parish.csv')\n",
    "\n",
    "income = pd.read_csv('census_med_income_by_parish.csv')\n",
    "\n",
    "zips_names_codes = pd.read_excel('all_zips.xlsx')"
   ]
  },
  {
   "cell_type": "code",
   "execution_count": null,
   "metadata": {},
   "outputs": [],
   "source": [
    "sponsor['year'].unique()"
   ]
  },
  {
   "cell_type": "code",
   "execution_count": null,
   "metadata": {},
   "outputs": [],
   "source": [
    "academic_year_label = {'2022-23': '2022_23',\n",
    "                       '2021-22': '2021_22',\n",
    "                       '2020-21': '2020_21',\n",
    "                       '2019-20': '2019_20',\n",
    "                       '2018-19': '2018_19'}\n",
    "\n",
    "poverty['Year'] = poverty['Year'].map(academic_year_label)\n",
    "housing['Year'] = housing['Year'].map(academic_year_label)\n",
    "age['year'] = age['year'].map(academic_year_label)\n",
    "nces['SchoolYear'] = nces['SchoolYear'].map(academic_year_label)"
   ]
  },
  {
   "cell_type": "code",
   "execution_count": null,
   "metadata": {},
   "outputs": [],
   "source": [
    "zips_names_codes = zips_names_codes[['school_id', 'school_name', 'parish']]"
   ]
  },
  {
   "cell_type": "code",
   "execution_count": null,
   "metadata": {},
   "outputs": [],
   "source": [
    "sponsor.columns"
   ]
  },
  {
   "cell_type": "code",
   "execution_count": null,
   "metadata": {},
   "outputs": [],
   "source": [
    "sponsor = sponsor.merge(zips_names_codes, on='school_id', how='left' )"
   ]
  },
  {
   "cell_type": "code",
   "execution_count": null,
   "metadata": {},
   "outputs": [],
   "source": [
    "sponsor['zip_code'] = sponsor['zip_code'].fillna(98403)\n",
    "\n",
    "sponsor['zip_code'] = sponsor['zip_code'].astype(int).astype(str)"
   ]
  },
  {
   "cell_type": "code",
   "execution_count": null,
   "metadata": {},
   "outputs": [],
   "source": [
    "len(sponsor['zip_code'].unique())"
   ]
  },
  {
   "cell_type": "code",
   "execution_count": null,
   "metadata": {},
   "outputs": [],
   "source": [
    "sponsor[sponsor['parish']=='Holy Rosary, Seattle ']"
   ]
  },
  {
   "cell_type": "code",
   "execution_count": null,
   "metadata": {},
   "outputs": [],
   "source": [
    "poverty.head()"
   ]
  },
  {
   "cell_type": "code",
   "execution_count": null,
   "metadata": {},
   "outputs": [],
   "source": [
    "poverty[poverty['Parish']=='Holy Rosary, Seattle ']"
   ]
  },
  {
   "cell_type": "code",
   "execution_count": null,
   "metadata": {},
   "outputs": [],
   "source": [
    "poverty['Parish'].unique()"
   ]
  },
  {
   "cell_type": "code",
   "execution_count": null,
   "metadata": {},
   "outputs": [],
   "source": [
    "sponsor['parish'].unique()"
   ]
  },
  {
   "cell_type": "code",
   "execution_count": null,
   "metadata": {},
   "outputs": [],
   "source": [
    "poverty_merge = sponsor.merge(poverty, left_on=['parish', 'year'] , right_on=['Parish', 'Year'], how='left')"
   ]
  },
  {
   "cell_type": "code",
   "execution_count": null,
   "metadata": {},
   "outputs": [],
   "source": [
    "poverty_merge[poverty_merge['parish']== 'Holy Rosary, Seattle ']"
   ]
  },
  {
   "cell_type": "code",
   "execution_count": null,
   "metadata": {},
   "outputs": [],
   "source": [
    "poverty_merge.drop(columns=['ParishName', 'Parish'], axis=1, inplace=True)"
   ]
  },
  {
   "cell_type": "code",
   "execution_count": null,
   "metadata": {},
   "outputs": [],
   "source": [
    "poverty_merge.head()"
   ]
  },
  {
   "cell_type": "code",
   "execution_count": null,
   "metadata": {},
   "outputs": [],
   "source": [
    "housing[housing['Parish']== 'Holy Rosary, Seattle ']"
   ]
  },
  {
   "cell_type": "code",
   "execution_count": null,
   "metadata": {},
   "outputs": [],
   "source": [
    "housing_merge = poverty_merge.merge(housing, left_on=['parish', 'Year_y'], right_on=['Parish', 'Year'], how='left')\n",
    "housing_merge.drop('Unnamed: 0_x', axis=1, inplace=True)"
   ]
  },
  {
   "cell_type": "code",
   "execution_count": null,
   "metadata": {},
   "outputs": [],
   "source": [
    "housing_merge[housing_merge['parish']=='Holy Rosary, Seattle ']"
   ]
  },
  {
   "cell_type": "code",
   "execution_count": null,
   "metadata": {},
   "outputs": [],
   "source": [
    "housing_merge.drop(columns=['Parish'], inplace=True)"
   ]
  },
  {
   "cell_type": "code",
   "execution_count": null,
   "metadata": {},
   "outputs": [],
   "source": [
    "age_merge = housing_merge.merge(age, left_on=['parish', 'Year_y'], right_on=['Parish', 'year'], how='left')\n",
    "age_merge.drop('Unnamed: 0_x', axis=1, inplace=True)"
   ]
  },
  {
   "cell_type": "code",
   "execution_count": null,
   "metadata": {},
   "outputs": [],
   "source": [
    "age_merge"
   ]
  },
  {
   "cell_type": "code",
   "execution_count": null,
   "metadata": {},
   "outputs": [],
   "source": [
    "age_merge.drop(columns=['Parish'], inplace=True)"
   ]
  },
  {
   "cell_type": "code",
   "execution_count": null,
   "metadata": {},
   "outputs": [],
   "source": [
    "for col in age_merge.columns:\n",
    "    print(col)"
   ]
  },
  {
   "cell_type": "code",
   "execution_count": null,
   "metadata": {},
   "outputs": [],
   "source": [
    "nces = pd.read_csv('parish_nces_imputed_dataV2.csv')\n",
    "nces.head()"
   ]
  },
  {
   "cell_type": "code",
   "execution_count": null,
   "metadata": {},
   "outputs": [],
   "source": [
    "nces[nces['parish']=='Holy Rosary, Seattle ']"
   ]
  },
  {
   "cell_type": "code",
   "execution_count": null,
   "metadata": {},
   "outputs": [],
   "source": [
    "age_merge[age_merge['parish']=='Holy Rosary, Seattle ']"
   ]
  },
  {
   "cell_type": "code",
   "execution_count": null,
   "metadata": {},
   "outputs": [],
   "source": [
    "nces_merge = age_merge.merge(nces, left_on=['parish', 'year_y'], right_on=['parish', 'SchoolYear'], how='left')"
   ]
  },
  {
   "cell_type": "code",
   "execution_count": null,
   "metadata": {},
   "outputs": [],
   "source": [
    "nces_merge[nces_merge['parish']=='Holy Rosary, Seattle ']"
   ]
  },
  {
   "cell_type": "code",
   "execution_count": null,
   "metadata": {},
   "outputs": [],
   "source": [
    "income"
   ]
  },
  {
   "cell_type": "code",
   "execution_count": null,
   "metadata": {},
   "outputs": [],
   "source": [
    "for col in nces_merge.columns:\n",
    "    print(col)"
   ]
  },
  {
   "cell_type": "code",
   "execution_count": null,
   "metadata": {},
   "outputs": [],
   "source": [
    "income_merge = nces_merge.merge(income, left_on=['parish', 'SchoolYear'], right_on=['Parish', 'year'], how='left')"
   ]
  },
  {
   "cell_type": "code",
   "execution_count": null,
   "metadata": {},
   "outputs": [],
   "source": [
    "income_merge"
   ]
  },
  {
   "cell_type": "code",
   "execution_count": null,
   "metadata": {},
   "outputs": [],
   "source": [
    "income_merge[income_merge['parish']=='Holy Rosary, Seattle ']"
   ]
  },
  {
   "cell_type": "code",
   "execution_count": null,
   "metadata": {},
   "outputs": [],
   "source": [
    "income_merge.to_csv('intermediate_merge.csv')"
   ]
  }
 ],
 "metadata": {
  "kernelspec": {
   "display_name": "Python 3 (ipykernel)",
   "language": "python",
   "name": "python3"
  },
  "language_info": {
   "codemirror_mode": {
    "name": "ipython",
    "version": 3
   },
   "file_extension": ".py",
   "mimetype": "text/x-python",
   "name": "python",
   "nbconvert_exporter": "python",
   "pygments_lexer": "ipython3",
   "version": "3.12.4"
  }
 },
 "nbformat": 4,
 "nbformat_minor": 4
}
